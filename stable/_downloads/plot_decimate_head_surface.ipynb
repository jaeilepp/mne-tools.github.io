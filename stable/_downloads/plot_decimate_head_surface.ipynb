{
  "nbformat_minor": 0, 
  "nbformat": 4, 
  "cells": [
    {
      "execution_count": null, 
      "cell_type": "code", 
      "source": [
        "%matplotlib inline"
      ], 
      "outputs": [], 
      "metadata": {
        "collapsed": false
      }
    }, 
    {
      "source": [
        "\n# Decimating scalp surface\n\n\nThis can be useful to reduce computation time when\nusing a cloud of digitization points for coordinate alignment\ninstead of e.g. EEG-cap positions.\n\n"
      ], 
      "cell_type": "markdown", 
      "metadata": {}
    }, 
    {
      "execution_count": null, 
      "cell_type": "code", 
      "source": [
        "# Authors: Denis Engemann <denis.engemann@gmail.com>\n#          Alexandre Gramfort <alexandre.gramfort@telecom-paristech.fr>\n#\n# License: BSD (3-clause)\n\nimport mne\nfrom mne.surface import decimate_surface  # noqa\n\nprint(__doc__)\n\npath = mne.datasets.sample.data_path()\nsurf = mne.read_bem_surfaces(path + '/subjects/sample/bem/sample-head.fif')[0]\n\npoints, triangles = surf['rr'], surf['tris']\n\n# # reduce to 30000 meshes equaling ${SUBJECT}-head-medium.fif output from\n# # mne_make_scalp_surfaces.py and mne_make_scalp_surfaces\n# points_dec, triangles_dec = decimate_surface(points, triangles,\n#                                              n_triangles=30000)\n\n# from mayavi import mlab  # noqa\n\n# head_col = (0.95, 0.83, 0.83)  # light pink\n\n# p, t = points_dec, triangles_dec\n# mlab.triangular_mesh(p[:, 0], p[:, 1], p[:, 2], t, color=head_col)"
      ], 
      "outputs": [], 
      "metadata": {
        "collapsed": false
      }
    }
  ], 
  "metadata": {
    "kernelspec": {
      "display_name": "Python 2", 
      "name": "python2", 
      "language": "python"
    }, 
    "language_info": {
      "mimetype": "text/x-python", 
      "nbconvert_exporter": "python", 
      "name": "python", 
      "file_extension": ".py", 
      "version": "2.7.11", 
      "pygments_lexer": "ipython2", 
      "codemirror_mode": {
        "version": 2, 
        "name": "ipython"
      }
    }
  }
}