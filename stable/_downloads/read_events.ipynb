{
  "nbformat_minor": 0, 
  "nbformat": 4, 
  "cells": [
    {
      "execution_count": null, 
      "cell_type": "code", 
      "source": [
        "%matplotlib inline"
      ], 
      "outputs": [], 
      "metadata": {
        "collapsed": false
      }
    }, 
    {
      "source": [
        "\n# Reading an event file\n\n\nRead events from a file.\n"
      ], 
      "cell_type": "markdown", 
      "metadata": {}
    }, 
    {
      "execution_count": null, 
      "cell_type": "code", 
      "source": [
        "# Author: Alexandre Gramfort <alexandre.gramfort@telecom-paristech.fr>\n#\n# License: BSD (3-clause)\n\nimport mne\nfrom mne.datasets import sample\n\nprint(__doc__)\n\ndata_path = sample.data_path()\nfname = data_path + '/MEG/sample/sample_audvis_raw-eve.fif'\n\n# Reading events\n# events = mne.read_events(fname)  # all\nevents = mne.read_events(fname, include=1)  # restricted to event 1\nevents = mne.read_events(fname, include=[1, 2])  # restricted to event 1 or 2\nevents = mne.read_events(fname, exclude=[4, 32])  # keep all but 4 and 32\n\n# Writing events\nmne.write_events('events.fif', events)\n\nfor ind, before, after in events[:5]:\n    print(\"At sample %d stim channel went from %d to %d\"\n          % (ind, before, after))"
      ], 
      "outputs": [], 
      "metadata": {
        "collapsed": false
      }
    }
  ], 
  "metadata": {
    "kernelspec": {
      "display_name": "Python 2", 
      "name": "python2", 
      "language": "python"
    }, 
    "language_info": {
      "mimetype": "text/x-python", 
      "nbconvert_exporter": "python", 
      "name": "python", 
      "file_extension": ".py", 
      "version": "2.7.11", 
      "pygments_lexer": "ipython2", 
      "codemirror_mode": {
        "version": 2, 
        "name": "ipython"
      }
    }
  }
}