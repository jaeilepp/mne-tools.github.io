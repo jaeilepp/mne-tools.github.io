{
  "nbformat_minor": 0, 
  "nbformat": 4, 
  "cells": [
    {
      "execution_count": null, 
      "cell_type": "code", 
      "source": [
        "%matplotlib inline"
      ], 
      "outputs": [], 
      "metadata": {
        "collapsed": false
      }
    }, 
    {
      "source": [
        "\n.. _tut_stats_cluster_sensor_rANOVA_tfr:\n\n# Mass-univariate twoway repeated measures ANOVA on single trial power\n\n\nThis script shows how to conduct a mass-univariate repeated measures\nANOVA. As the model to be fitted assumes two fully crossed factors,\nwe will study the interplay between perceptual modality\n(auditory VS visual) and the location of stimulus presentation\n(left VS right). Here we use single trials as replications\n(subjects) while iterating over time slices plus frequency bands\nfor to fit our mass-univariate model. For the sake of simplicity we\nwill confine this analysis to one single channel of which we know\nthat it exposes a strong induced response. We will then visualize\neach effect by creating a corresponding mass-univariate effect\nimage. We conclude with accounting for multiple comparisons by\nperforming a permutation clustering test using the ANOVA as\nclustering function. The results final will be compared to\nmultiple comparisons using False Discovery Rate correction.\n"
      ], 
      "cell_type": "markdown", 
      "metadata": {}
    }, 
    {
      "execution_count": null, 
      "cell_type": "code", 
      "source": [
        "# Authors: Denis Engemann <denis.engemann@gmail.com>\n#          Eric Larson <larson.eric.d@gmail.com>\n#          Alexandre Gramfort <alexandre.gramfort@telecom-paristech.fr>\n#\n# License: BSD (3-clause)\n\nimport numpy as np\nimport matplotlib.pyplot as plt\n\nimport mne\nfrom mne import io\nfrom mne.time_frequency import single_trial_power\nfrom mne.stats import f_threshold_mway_rm, f_mway_rm, fdr_correction\nfrom mne.datasets import sample\n\nprint(__doc__)"
      ], 
      "outputs": [], 
      "metadata": {
        "collapsed": false
      }
    }, 
    {
      "source": [
        "Set parameters\n--------------\n"
      ], 
      "cell_type": "markdown", 
      "metadata": {}
    }, 
    {
      "execution_count": null, 
      "cell_type": "code", 
      "source": [
        "data_path = sample.data_path()\nraw_fname = data_path + '/MEG/sample/sample_audvis_raw.fif'\nevent_fname = data_path + '/MEG/sample/sample_audvis_raw-eve.fif'\nevent_id = 1\ntmin = -0.2\ntmax = 0.5\n\n# Setup for reading the raw data\nraw = io.read_raw_fif(raw_fname)\nevents = mne.read_events(event_fname)\n\ninclude = []\nraw.info['bads'] += ['MEG 2443']  # bads\n\n# picks MEG gradiometers\npicks = mne.pick_types(raw.info, meg='grad', eeg=False, eog=True,\n                       stim=False, include=include, exclude='bads')\n\nch_name = raw.info['ch_names'][picks[0]]\n\n# Load conditions\nreject = dict(grad=4000e-13, eog=150e-6)\nevent_id = dict(aud_l=1, aud_r=2, vis_l=3, vis_r=4)\nepochs = mne.Epochs(raw, events, event_id, tmin, tmax,\n                    picks=picks, baseline=(None, 0),\n                    reject=reject)"
      ], 
      "outputs": [], 
      "metadata": {
        "collapsed": false
      }
    }, 
    {
      "source": [
        "We have to make sure all conditions have the same counts, as the ANOVA\nexpects a fully balanced data matrix and does not forgive imbalances that\ngenerously (risk of type-I error).\n"
      ], 
      "cell_type": "markdown", 
      "metadata": {}
    }, 
    {
      "execution_count": null, 
      "cell_type": "code", 
      "source": [
        "epochs.equalize_event_counts(event_id, copy=False)\n# Time vector\ntimes = 1e3 * epochs.times  # change unit to ms\n\n# Factor to down-sample the temporal dimension of the PSD computed by\n# single_trial_power.\ndecim = 2\nfrequencies = np.arange(7, 30, 3)  # define frequencies of interest\nsfreq = raw.info['sfreq']  # sampling in Hz\nn_cycles = frequencies / frequencies[0]\nbaseline_mask = times[::decim] < 0"
      ], 
      "outputs": [], 
      "metadata": {
        "collapsed": false
      }
    }, 
    {
      "source": [
        "Create TFR representations for all conditions\n---------------------------------------------\n"
      ], 
      "cell_type": "markdown", 
      "metadata": {}
    }, 
    {
      "execution_count": null, 
      "cell_type": "code", 
      "source": [
        "epochs_power = list()\nfor condition in [epochs[k].get_data()[:, 97:98, :] for k in event_id]:\n    this_power = single_trial_power(condition, sfreq=sfreq,\n                                    frequencies=frequencies, n_cycles=n_cycles,\n                                    decim=decim)\n    this_power = this_power[:, 0, :, :]  # we only have one channel.\n    # Compute ratio with baseline power (be sure to correct time vector with\n    # decimation factor)\n    epochs_baseline = np.mean(this_power[:, :, baseline_mask], axis=2)\n    this_power /= epochs_baseline[..., np.newaxis]\n    epochs_power.append(this_power)"
      ], 
      "outputs": [], 
      "metadata": {
        "collapsed": false
      }
    }, 
    {
      "source": [
        "Setup repeated measures ANOVA\n-----------------------------\n\nWe will tell the ANOVA how to interpret the data matrix in terms of factors.\nThis is done via the factor levels argument which is a list of the number\nfactor levels for each factor.\n"
      ], 
      "cell_type": "markdown", 
      "metadata": {}
    }, 
    {
      "execution_count": null, 
      "cell_type": "code", 
      "source": [
        "n_conditions = len(epochs.event_id)\nn_replications = epochs.events.shape[0] / n_conditions\n\nfactor_levels = [2, 2]  # number of levels in each factor\neffects = 'A*B'  # this is the default signature for computing all effects\n# Other possible options are 'A' or 'B' for the corresponding main effects\n# or 'A:B' for the interaction effect only (this notation is borrowed from the\n# R formula language)\nn_frequencies = len(frequencies)\nn_times = len(times[::decim])"
      ], 
      "outputs": [], 
      "metadata": {
        "collapsed": false
      }
    }, 
    {
      "source": [
        "Now we'll assemble the data matrix and swap axes so the trial replications\nare the first dimension and the conditions are the second dimension.\n"
      ], 
      "cell_type": "markdown", 
      "metadata": {}
    }, 
    {
      "execution_count": null, 
      "cell_type": "code", 
      "source": [
        "data = np.swapaxes(np.asarray(epochs_power), 1, 0)\n# reshape last two dimensions in one mass-univariate observation-vector\ndata = data.reshape(n_replications, n_conditions, n_frequencies * n_times)\n\n# so we have replications * conditions * observations:\nprint(data.shape)"
      ], 
      "outputs": [], 
      "metadata": {
        "collapsed": false
      }
    }, 
    {
      "source": [
        "While the iteration scheme used above for assembling the data matrix\nmakes sure the first two dimensions are organized as expected (with A =\nmodality and B = location):\n\n.. table::\n\n===== ==== ==== ==== ====\ntrial A1B1 A1B2 A2B1 B2B2\n===== ==== ==== ==== ====\n1     1.34 2.53 0.97 1.74\n...   .... .... .... ....\n56    2.45 7.90 3.09 4.76\n===== ==== ==== ==== ====\n\nNow we're ready to run our repeated measures ANOVA.\n\nNote. As we treat trials as subjects, the test only accounts for\ntime locked responses despite the 'induced' approach.\nFor analysis for induced power at the group level averaged TRFs\nare required.\n"
      ], 
      "cell_type": "markdown", 
      "metadata": {}
    }, 
    {
      "execution_count": null, 
      "cell_type": "code", 
      "source": [
        "fvals, pvals = f_mway_rm(data, factor_levels, effects=effects)\n\neffect_labels = ['modality', 'location', 'modality by location']\n\n# let's visualize our effects by computing f-images\nfor effect, sig, effect_label in zip(fvals, pvals, effect_labels):\n    plt.figure()\n    # show naive F-values in gray\n    plt.imshow(effect.reshape(8, 211), cmap=plt.cm.gray, extent=[times[0],\n               times[-1], frequencies[0], frequencies[-1]], aspect='auto',\n               origin='lower')\n    # create mask for significant Time-frequency locations\n    effect = np.ma.masked_array(effect, [sig > .05])\n    plt.imshow(effect.reshape(8, 211), cmap='RdBu_r', extent=[times[0],\n               times[-1], frequencies[0], frequencies[-1]], aspect='auto',\n               origin='lower')\n    plt.colorbar()\n    plt.xlabel('time (ms)')\n    plt.ylabel('Frequency (Hz)')\n    plt.title(r\"Time-locked response for '%s' (%s)\" % (effect_label, ch_name))\n    plt.show()"
      ], 
      "outputs": [], 
      "metadata": {
        "collapsed": false
      }
    }, 
    {
      "source": [
        "Account for multiple comparisons using FDR versus permutation clustering test\n-----------------------------------------------------------------------------\n\nFirst we need to slightly modify the ANOVA function to be suitable for\nthe clustering procedure. Also want to set some defaults.\nLet's first override effects to confine the analysis to the interaction\n"
      ], 
      "cell_type": "markdown", 
      "metadata": {}
    }, 
    {
      "execution_count": null, 
      "cell_type": "code", 
      "source": [
        "effects = 'A:B'"
      ], 
      "outputs": [], 
      "metadata": {
        "collapsed": false
      }
    }, 
    {
      "source": [
        "A stat_fun must deal with a variable number of input arguments.\nInside the clustering function each condition will be passed as flattened\narray, necessitated by the clustering procedure. The ANOVA however expects an\ninput array of dimensions: subjects X conditions X observations (optional).\nThe following function catches the list input and swaps the first and\nthe second dimension and finally calls the ANOVA function.\n"
      ], 
      "cell_type": "markdown", 
      "metadata": {}
    }, 
    {
      "execution_count": null, 
      "cell_type": "code", 
      "source": [
        "def stat_fun(*args):\n    return f_mway_rm(np.swapaxes(args, 1, 0), factor_levels=factor_levels,\n                     effects=effects, return_pvals=False)[0]\n    # The ANOVA returns a tuple f-values and p-values, we will pick the former.\n\npthresh = 0.00001  # set threshold rather high to save some time\nf_thresh = f_threshold_mway_rm(n_replications, factor_levels, effects,\n                               pthresh)\ntail = 1  # f-test, so tail > 0\nn_permutations = 256  # Save some time (the test won't be too sensitive ...)\nT_obs, clusters, cluster_p_values, h0 = mne.stats.permutation_cluster_test(\n    epochs_power, stat_fun=stat_fun, threshold=f_thresh, tail=tail, n_jobs=1,\n    n_permutations=n_permutations, buffer_size=None)"
      ], 
      "outputs": [], 
      "metadata": {
        "collapsed": false
      }
    }, 
    {
      "source": [
        "Create new stats image with only significant clusters\n-----------------------------------------------------\n"
      ], 
      "cell_type": "markdown", 
      "metadata": {}
    }, 
    {
      "execution_count": null, 
      "cell_type": "code", 
      "source": [
        "good_clusers = np.where(cluster_p_values < .05)[0]\nT_obs_plot = np.ma.masked_array(T_obs,\n                                np.invert(clusters[np.squeeze(good_clusers)]))\n\nplt.figure()\nfor f_image, cmap in zip([T_obs, T_obs_plot], [plt.cm.gray, 'RdBu_r']):\n    plt.imshow(f_image, cmap=cmap, extent=[times[0], times[-1],\n               frequencies[0], frequencies[-1]], aspect='auto',\n               origin='lower')\nplt.xlabel('time (ms)')\nplt.ylabel('Frequency (Hz)')\nplt.title('Time-locked response for \\'modality by location\\' (%s)\\n'\n          ' cluster-level corrected (p <= 0.05)' % ch_name)\nplt.show()"
      ], 
      "outputs": [], 
      "metadata": {
        "collapsed": false
      }
    }, 
    {
      "source": [
        "Now using FDR\n-------------\n"
      ], 
      "cell_type": "markdown", 
      "metadata": {}
    }, 
    {
      "execution_count": null, 
      "cell_type": "code", 
      "source": [
        "mask, _ = fdr_correction(pvals[2])\nT_obs_plot2 = np.ma.masked_array(T_obs, np.invert(mask))\n\nplt.figure()\nfor f_image, cmap in zip([T_obs, T_obs_plot2], [plt.cm.gray, 'RdBu_r']):\n    plt.imshow(f_image, cmap=cmap, extent=[times[0], times[-1],\n               frequencies[0], frequencies[-1]], aspect='auto',\n               origin='lower')\n\nplt.xlabel('time (ms)')\nplt.ylabel('Frequency (Hz)')\nplt.title('Time-locked response for \\'modality by location\\' (%s)\\n'\n          ' FDR corrected (p <= 0.05)' % ch_name)\nplt.show()\n\n# Both, cluster level and FDR correction help getting rid of\n# putatively spots we saw in the naive f-images."
      ], 
      "outputs": [], 
      "metadata": {
        "collapsed": false
      }
    }
  ], 
  "metadata": {
    "kernelspec": {
      "display_name": "Python 2", 
      "name": "python2", 
      "language": "python"
    }, 
    "language_info": {
      "mimetype": "text/x-python", 
      "nbconvert_exporter": "python", 
      "name": "python", 
      "file_extension": ".py", 
      "version": "2.7.11", 
      "pygments_lexer": "ipython2", 
      "codemirror_mode": {
        "version": 2, 
        "name": "ipython"
      }
    }
  }
}