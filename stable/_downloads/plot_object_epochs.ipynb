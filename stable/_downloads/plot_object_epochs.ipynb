{
  "nbformat_minor": 0, 
  "nbformat": 4, 
  "cells": [
    {
      "execution_count": null, 
      "cell_type": "code", 
      "source": [
        "%matplotlib inline"
      ], 
      "outputs": [], 
      "metadata": {
        "collapsed": false
      }
    }, 
    {
      "source": [
        "\n.. _tut_epochs_objects:\n\nThe :class:`Epochs <mne.Epochs>` data structure: epoched data\n=============================================================\n"
      ], 
      "cell_type": "markdown", 
      "metadata": {}
    }, 
    {
      "execution_count": null, 
      "cell_type": "code", 
      "source": [
        "from __future__ import print_function\n\nimport mne\nimport os.path as op\nimport numpy as np\nfrom matplotlib import pyplot as plt"
      ], 
      "outputs": [], 
      "metadata": {
        "collapsed": false
      }
    }, 
    {
      "source": [
        ":class:`Epochs <mne.Epochs>` objects are a way of representing continuous\ndata as a collection of time-locked trials, stored in an array of\n`shape(n_events, n_channels, n_times)`. They are useful for many statistical\nmethods in neuroscience, and make it easy to quickly overview what occurs\nduring a trial.\n\n:class:`Epochs <mne.Epochs>` objects can be created in three ways:\n 1. From a :class:`Raw <mne.io.RawFIF>` object, along with event times\n 2. From an :class:`Epochs <mne.Epochs>` object that has been saved as a\n    `.fif` file\n 3. From scratch using :class:`EpochsArray <mne.EpochsArray>`. See\n    :ref:`tut_creating_data_structures`\n"
      ], 
      "cell_type": "markdown", 
      "metadata": {}
    }, 
    {
      "execution_count": null, 
      "cell_type": "code", 
      "source": [
        "data_path = mne.datasets.sample.data_path()\n# Load a dataset that contains events\nraw = mne.io.RawFIF(\n    op.join(data_path, 'MEG', 'sample', 'sample_audvis_raw.fif'))\n\n# If your raw object has a stim channel, you can construct an event array\n# easily\nevents = mne.find_events(raw, stim_channel='STI 014')\n\n# Show the number of events (number of rows)\nprint('Number of events:', len(events))\n\n# Show all unique event codes (3rd column)\nprint('Unique event codes:', np.unique(events[:, 2]))\n\n# Specify event codes of interest with descriptive labels.\n# This dataset also has visual left (3) and right (4) events, but\n# to save time and memory we'll just look at the auditory conditions\n# for now.\nevent_id = {'Auditory/Left': 1, 'Auditory/Right': 2}"
      ], 
      "outputs": [], 
      "metadata": {
        "collapsed": false
      }
    }, 
    {
      "source": [
        "Now, we can create an :class:`mne.Epochs` object with the events we've\nextracted. Note that epochs constructed in this manner will not have their\ndata available until explicitly read into memory, which you can do with\n:func:`get_data <mne.Epochs.get_data>`. Alternatively, you can use\n`preload=True`.\n\nExpose the raw data as epochs, cut from -0.1 s to 1.0 s relative to the event\nonsets\n"
      ], 
      "cell_type": "markdown", 
      "metadata": {}
    }, 
    {
      "execution_count": null, 
      "cell_type": "code", 
      "source": [
        "epochs = mne.Epochs(raw, events, event_id, tmin=-0.1, tmax=1,\n                    baseline=(None, 0), preload=True)\nprint(epochs)"
      ], 
      "outputs": [], 
      "metadata": {
        "collapsed": false
      }
    }, 
    {
      "source": [
        "Epochs behave similarly to :class:`mne.io.Raw` objects. They have an\n:class:`info <mne.Info>` attribute that has all of the same\ninformation, as well as a number of attributes unique to the events contained\nwithin the object.\n"
      ], 
      "cell_type": "markdown", 
      "metadata": {}
    }, 
    {
      "execution_count": null, 
      "cell_type": "code", 
      "source": [
        "print(epochs.events[:3], epochs.event_id, sep='\\n\\n')"
      ], 
      "outputs": [], 
      "metadata": {
        "collapsed": false
      }
    }, 
    {
      "source": [
        "You can select subsets of epochs by indexing the :class:`Epochs <mne.Epochs>`\nobject directly. Alternatively, if you have epoch names specified in\n`event_id` then you may index with strings instead.\n"
      ], 
      "cell_type": "markdown", 
      "metadata": {}
    }, 
    {
      "execution_count": null, 
      "cell_type": "code", 
      "source": [
        "print(epochs[1:5])\nprint(epochs['Auditory/Right'])"
      ], 
      "outputs": [], 
      "metadata": {
        "collapsed": false
      }
    }, 
    {
      "source": [
        "It is also possible to iterate through :class:`Epochs <mne.Epochs>` objects\nin this way. Note that behavior is different if you iterate on `Epochs`\ndirectly rather than indexing:\n"
      ], 
      "cell_type": "markdown", 
      "metadata": {}
    }, 
    {
      "execution_count": null, 
      "cell_type": "code", 
      "source": [
        "# These will be epochs objects\nfor i in range(3):\n    print(epochs[i])\n\n# These will be arrays\nfor ep in epochs[:2]:\n    print(ep)"
      ], 
      "outputs": [], 
      "metadata": {
        "collapsed": false
      }
    }, 
    {
      "source": [
        "You can manually remove epochs from the Epochs object by using\n:func:`epochs.drop(idx) <mne.Epochs.drop>`, or by using rejection or flat\nthresholds with :func:`epochs.drop_bad(reject, flat) <mne.Epochs.drop_bad>`.\nYou can also inspect the reason why epochs were dropped by looking at the\nlist stored in ``epochs.drop_log`` or plot them with\n:func:`epochs.plot_drop_log() <mne.Epochs.plot_drop_log>`. The indices\nfrom the original set of events are stored in ``epochs.selection``.\n"
      ], 
      "cell_type": "markdown", 
      "metadata": {}
    }, 
    {
      "execution_count": null, 
      "cell_type": "code", 
      "source": [
        "epochs.drop([0], reason='User reason')\nepochs.drop_bad(reject=dict(grad=2500e-13, mag=4e-12, eog=200e-6), flat=None)\nprint(epochs.drop_log)\nepochs.plot_drop_log()\nprint('Selection from original events:\\n%s' % epochs.selection)\nprint('Removed events (from numpy setdiff1d):\\n%s'\n      % (np.setdiff1d(np.arange(len(events)), epochs.selection).tolist(),))\nprint('Removed events (from list comprehension -- should match!):\\n%s'\n      % ([li for li, log in enumerate(epochs.drop_log) if len(log) > 0]))"
      ], 
      "outputs": [], 
      "metadata": {
        "collapsed": false
      }
    }, 
    {
      "source": [
        "If you wish to save the epochs as a file, you can do it with\n:func:`mne.Epochs.save`. To conform to MNE naming conventions, the\nepochs file names should end with '-epo.fif'.\n"
      ], 
      "cell_type": "markdown", 
      "metadata": {}
    }, 
    {
      "execution_count": null, 
      "cell_type": "code", 
      "source": [
        "epochs_fname = op.join(data_path, 'MEG', 'sample', 'sample-epo.fif')\nepochs.save(epochs_fname)"
      ], 
      "outputs": [], 
      "metadata": {
        "collapsed": false
      }
    }, 
    {
      "source": [
        "Later on you can read the epochs with :func:`mne.read_epochs`. For reading\nEEGLAB epochs files see :func:`mne.read_epochs_eeglab`. We can also use\n``preload=False`` to save memory, loading the epochs from disk on demand.\n"
      ], 
      "cell_type": "markdown", 
      "metadata": {}
    }, 
    {
      "execution_count": null, 
      "cell_type": "code", 
      "source": [
        "epochs = mne.read_epochs(epochs_fname, preload=False)"
      ], 
      "outputs": [], 
      "metadata": {
        "collapsed": false
      }
    }, 
    {
      "source": [
        "If you wish to look at the average across trial types, then you may do so,\ncreating an :class:`Evoked <mne.Evoked>` object in the process. Instances\nof `Evoked` are usually created by calling :func:`mne.Epochs.average`. For\ncreating `Evoked` from other data structures see :class:`mne.EvokedArray` and\n:ref:`tut_creating_data_structures`.\n"
      ], 
      "cell_type": "markdown", 
      "metadata": {}
    }, 
    {
      "execution_count": null, 
      "cell_type": "code", 
      "source": [
        "ev_left = epochs['Auditory/Left'].average()\nev_right = epochs['Auditory/Right'].average()\n\nf, axs = plt.subplots(3, 2, figsize=(10, 5))\n_ = f.suptitle('Left / Right auditory', fontsize=20)\n_ = ev_left.plot(axes=axs[:, 0], show=False)\n_ = ev_right.plot(axes=axs[:, 1], show=False)\nplt.tight_layout()"
      ], 
      "outputs": [], 
      "metadata": {
        "collapsed": false
      }
    }, 
    {
      "source": [
        "To export and manipulate Epochs using Pandas see :ref:`tut_io_export_pandas`.\n"
      ], 
      "cell_type": "markdown", 
      "metadata": {}
    }
  ], 
  "metadata": {
    "kernelspec": {
      "display_name": "Python 2", 
      "name": "python2", 
      "language": "python"
    }, 
    "language_info": {
      "mimetype": "text/x-python", 
      "nbconvert_exporter": "python", 
      "name": "python", 
      "file_extension": ".py", 
      "version": "2.7.11", 
      "pygments_lexer": "ipython2", 
      "codemirror_mode": {
        "version": 2, 
        "name": "ipython"
      }
    }
  }
}