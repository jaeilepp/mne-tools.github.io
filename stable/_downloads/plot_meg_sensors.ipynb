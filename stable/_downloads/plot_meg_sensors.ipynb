{
  "nbformat_minor": 0, 
  "nbformat": 4, 
  "cells": [
    {
      "execution_count": null, 
      "cell_type": "code", 
      "source": [
        "%matplotlib inline"
      ], 
      "outputs": [], 
      "metadata": {
        "collapsed": false
      }
    }, 
    {
      "source": [
        "\n# Plotting sensor layouts of MEG systems\n\n\nIn this example, sensor layouts of different MEG systems\nare shown.\n"
      ], 
      "cell_type": "markdown", 
      "metadata": {}
    }, 
    {
      "execution_count": null, 
      "cell_type": "code", 
      "source": [
        "# Author: Eric Larson <larson.eric.d@gmail.com>\n#\n# License: BSD (3-clause)\n\nimport os.path as op\n\nfrom mayavi import mlab\n\nimport mne\nfrom mne.io import read_raw_fif, read_raw_ctf, read_raw_bti, read_raw_kit\nfrom mne.datasets import sample, spm_face\nfrom mne.viz import plot_trans\n\nprint(__doc__)\n\nbti_path = op.abspath(op.dirname(mne.__file__)) + '/io/bti/tests/data/'\nkit_path = op.abspath(op.dirname(mne.__file__)) + '/io/kit/tests/data/'\nraws = dict(\n    Neuromag=read_raw_fif(sample.data_path() +\n                          '/MEG/sample/sample_audvis_raw.fif'),\n    CTF_275=read_raw_ctf(spm_face.data_path() +\n                         '/MEG/spm/SPM_CTF_MEG_example_faces1_3D.ds'),\n    Magnes_3600wh=read_raw_bti(op.join(bti_path, 'test_pdf_linux'),\n                               op.join(bti_path, 'test_config_linux'),\n                               op.join(bti_path, 'test_hs_linux')),\n    KIT=read_raw_kit(op.join(kit_path, 'test.sqd')),\n)\n\nfor system, raw in raws.items():\n    # We don't have coil definitions for KIT refs, so exclude them\n    ref_meg = False if system == 'KIT' else True\n    fig = plot_trans(raw.info, trans=None, dig=False, eeg_sensors=False,\n                     meg_sensors=True, coord_frame='meg', ref_meg=ref_meg)\n    mlab.title(system)"
      ], 
      "outputs": [], 
      "metadata": {
        "collapsed": false
      }
    }
  ], 
  "metadata": {
    "kernelspec": {
      "display_name": "Python 2", 
      "name": "python2", 
      "language": "python"
    }, 
    "language_info": {
      "mimetype": "text/x-python", 
      "nbconvert_exporter": "python", 
      "name": "python", 
      "file_extension": ".py", 
      "version": "2.7.11", 
      "pygments_lexer": "ipython2", 
      "codemirror_mode": {
        "version": 2, 
        "name": "ipython"
      }
    }
  }
}