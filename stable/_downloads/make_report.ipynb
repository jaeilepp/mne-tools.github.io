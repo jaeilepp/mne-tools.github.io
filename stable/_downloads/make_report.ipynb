{
  "nbformat_minor": 0, 
  "nbformat": 4, 
  "cells": [
    {
      "execution_count": null, 
      "cell_type": "code", 
      "source": [
        "%matplotlib inline"
      ], 
      "outputs": [], 
      "metadata": {
        "collapsed": false
      }
    }, 
    {
      "source": [
        "\n# Make an MNE-Report with a Slider\n\n\nIn this example, MEG evoked data are plotted in an html slider.\n"
      ], 
      "cell_type": "markdown", 
      "metadata": {}
    }, 
    {
      "execution_count": null, 
      "cell_type": "code", 
      "source": [
        "# Authors: Teon Brooks <teon.brooks@gmail.com\n#\n# License: BSD (3-clause)\n\nfrom mne.report import Report\nfrom mne.datasets import sample\nfrom mne import read_evokeds\nfrom matplotlib import pyplot as plt\n\n\nreport = Report()\npath = sample.data_path()\nfname = path + '/MEG/sample/sample_audvis-ave.fif'\n\n# Load the evoked data\nevoked = read_evokeds(fname, condition='Left Auditory',\n                      baseline=(None, 0), verbose=False)\nevoked.crop(0, .2)\ntimes = evoked.times[::4]\n# Create a list of figs for the slider\nfigs = list()\nfor time in times:\n    figs.append(evoked.plot_topomap(time, vmin=-300, vmax=300,\n                                    res=100, show=False))\n    plt.close(figs[-1])\nreport.add_slider_to_section(figs, times, 'Evoked Response')\n\n# # to save report\n# report.save('foobar.html', True)"
      ], 
      "outputs": [], 
      "metadata": {
        "collapsed": false
      }
    }
  ], 
  "metadata": {
    "kernelspec": {
      "display_name": "Python 2", 
      "name": "python2", 
      "language": "python"
    }, 
    "language_info": {
      "mimetype": "text/x-python", 
      "nbconvert_exporter": "python", 
      "name": "python", 
      "file_extension": ".py", 
      "version": "2.7.11", 
      "pygments_lexer": "ipython2", 
      "codemirror_mode": {
        "version": 2, 
        "name": "ipython"
      }
    }
  }
}