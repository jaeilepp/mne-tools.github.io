{
  "nbformat_minor": 0, 
  "nbformat": 4, 
  "cells": [
    {
      "execution_count": null, 
      "cell_type": "code", 
      "source": [
        "%matplotlib inline"
      ], 
      "outputs": [], 
      "metadata": {
        "collapsed": false
      }
    }, 
    {
      "source": [
        "\n# Artifact correction with Maxwell filter\n\n\nThis tutorial shows how to clean MEG data with Maxwell filtering.\n\nMaxwell filtering in MNE can be used to suppress sources of external\nintereference and compensate for subject head movements.\n\nSee :ref:`maxwell` for more details.\n"
      ], 
      "cell_type": "markdown", 
      "metadata": {}
    }, 
    {
      "execution_count": null, 
      "cell_type": "code", 
      "source": [
        "import mne\nfrom mne.preprocessing import maxwell_filter\n\ndata_path = mne.datasets.sample.data_path()"
      ], 
      "outputs": [], 
      "metadata": {
        "collapsed": false
      }
    }, 
    {
      "source": [
        "Set parameters\n"
      ], 
      "cell_type": "markdown", 
      "metadata": {}
    }, 
    {
      "execution_count": null, 
      "cell_type": "code", 
      "source": [
        "raw_fname = data_path + '/MEG/sample/sample_audvis_raw.fif'\nctc_fname = data_path + '/SSS/ct_sparse_mgh.fif'\nfine_cal_fname = data_path + '/SSS/sss_cal_mgh.dat'"
      ], 
      "outputs": [], 
      "metadata": {
        "collapsed": false
      }
    }, 
    {
      "source": [
        "Preprocess with Maxwell filtering\n"
      ], 
      "cell_type": "markdown", 
      "metadata": {}
    }, 
    {
      "execution_count": null, 
      "cell_type": "code", 
      "source": [
        "raw = mne.io.read_raw_fif(raw_fname)\nraw.info['bads'] = ['MEG 2443', 'EEG 053', 'MEG 1032', 'MEG 2313']  # set bads\n# Here we don't use tSSS (set st_duration) because MGH data is very clean\nraw_sss = maxwell_filter(raw, cross_talk=ctc_fname, calibration=fine_cal_fname)"
      ], 
      "outputs": [], 
      "metadata": {
        "collapsed": false
      }
    }, 
    {
      "source": [
        "Select events to extract epochs from, pick M/EEG channels, and plot evoked\n"
      ], 
      "cell_type": "markdown", 
      "metadata": {}
    }, 
    {
      "execution_count": null, 
      "cell_type": "code", 
      "source": [
        "tmin, tmax = -0.2, 0.5\nevent_id = {'Auditory/Left': 1}\nevents = mne.find_events(raw, 'STI 014')\npicks = mne.pick_types(raw.info, meg=True, eeg=False, stim=False, eog=True,\n                       include=[], exclude='bads')\nfor r, kind in zip((raw, raw_sss), ('Raw data', 'Maxwell filtered data')):\n    epochs = mne.Epochs(r, events, event_id, tmin, tmax, picks=picks,\n                        baseline=(None, 0), reject=dict(eog=150e-6),\n                        preload=False)\n    evoked = epochs.average()\n    evoked.plot(window_title=kind, ylim=dict(grad=(-200, 250),\n                                             mag=(-600, 700)))"
      ], 
      "outputs": [], 
      "metadata": {
        "collapsed": false
      }
    }
  ], 
  "metadata": {
    "kernelspec": {
      "display_name": "Python 2", 
      "name": "python2", 
      "language": "python"
    }, 
    "language_info": {
      "mimetype": "text/x-python", 
      "nbconvert_exporter": "python", 
      "name": "python", 
      "file_extension": ".py", 
      "version": "2.7.11", 
      "pygments_lexer": "ipython2", 
      "codemirror_mode": {
        "version": 2, 
        "name": "ipython"
      }
    }
  }
}