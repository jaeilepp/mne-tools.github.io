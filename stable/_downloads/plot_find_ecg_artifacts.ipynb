{
  "nbformat_minor": 0, 
  "nbformat": 4, 
  "cells": [
    {
      "execution_count": null, 
      "cell_type": "code", 
      "source": [
        "%matplotlib inline"
      ], 
      "outputs": [], 
      "metadata": {
        "collapsed": false
      }
    }, 
    {
      "source": [
        "\n# Find ECG artifacts\n\n\nLocate QRS component of ECG.\n\n"
      ], 
      "cell_type": "markdown", 
      "metadata": {}
    }, 
    {
      "execution_count": null, 
      "cell_type": "code", 
      "source": [
        "# Authors: Alexandre Gramfort <alexandre.gramfort@telecom-paristech.fr>\n#\n# License: BSD (3-clause)\n\n\nimport numpy as np\nimport matplotlib.pyplot as plt\n\nimport mne\nfrom mne import io\nfrom mne.datasets import sample\n\nprint(__doc__)\n\ndata_path = sample.data_path()"
      ], 
      "outputs": [], 
      "metadata": {
        "collapsed": false
      }
    }, 
    {
      "source": [
        "Set parameters\n"
      ], 
      "cell_type": "markdown", 
      "metadata": {}
    }, 
    {
      "execution_count": null, 
      "cell_type": "code", 
      "source": [
        "raw_fname = data_path + '/MEG/sample/sample_audvis_raw.fif'\n\n# Setup for reading the raw data\nraw = io.read_raw_fif(raw_fname)\n\nevent_id = 999\necg_events, _, _ = mne.preprocessing.find_ecg_events(raw, event_id,\n                                                     ch_name='MEG 1531')\n\n# Read epochs\npicks = mne.pick_types(raw.info, meg=False, eeg=False, stim=False, eog=False,\n                       include=['MEG 1531'], exclude='bads')\ntmin, tmax = -0.1, 0.1\nepochs = mne.Epochs(raw, ecg_events, event_id, tmin, tmax, picks=picks,\n                    proj=False)\ndata = epochs.get_data()\n\nprint(\"Number of detected ECG artifacts : %d\" % len(data))"
      ], 
      "outputs": [], 
      "metadata": {
        "collapsed": false
      }
    }, 
    {
      "source": [
        "Plot ECG artifacts\n"
      ], 
      "cell_type": "markdown", 
      "metadata": {}
    }, 
    {
      "execution_count": null, 
      "cell_type": "code", 
      "source": [
        "plt.plot(1e3 * epochs.times, np.squeeze(data).T)\nplt.xlabel('Times (ms)')\nplt.ylabel('ECG')\nplt.show()"
      ], 
      "outputs": [], 
      "metadata": {
        "collapsed": false
      }
    }
  ], 
  "metadata": {
    "kernelspec": {
      "display_name": "Python 2", 
      "name": "python2", 
      "language": "python"
    }, 
    "language_info": {
      "mimetype": "text/x-python", 
      "nbconvert_exporter": "python", 
      "name": "python", 
      "file_extension": ".py", 
      "version": "2.7.11", 
      "pygments_lexer": "ipython2", 
      "codemirror_mode": {
        "version": 2, 
        "name": "ipython"
      }
    }
  }
}