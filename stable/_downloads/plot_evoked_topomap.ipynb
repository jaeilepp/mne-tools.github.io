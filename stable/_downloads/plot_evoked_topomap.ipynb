{
  "nbformat_minor": 0, 
  "nbformat": 4, 
  "cells": [
    {
      "execution_count": null, 
      "cell_type": "code", 
      "source": [
        "%matplotlib inline"
      ], 
      "outputs": [], 
      "metadata": {
        "collapsed": false
      }
    }, 
    {
      "source": [
        "\n# Plotting topographic maps of evoked data\n\n\nLoad evoked data and plot topomaps for selected time points.\n\n"
      ], 
      "cell_type": "markdown", 
      "metadata": {}
    }, 
    {
      "execution_count": null, 
      "cell_type": "code", 
      "source": [
        "# Authors: Christian Brodbeck <christianbrodbeck@nyu.edu>\n#          Tal Linzen <linzen@nyu.edu>\n#          Denis A. Engeman <denis.engemann@gmail.com>\n#\n# License: BSD (3-clause)\n\nimport numpy as np\nimport matplotlib.pyplot as plt\nfrom mne.datasets import sample\nfrom mne import read_evokeds\n\nprint(__doc__)\n\npath = sample.data_path()\nfname = path + '/MEG/sample/sample_audvis-ave.fif'\n\n# load evoked and subtract baseline\ncondition = 'Left Auditory'\nevoked = read_evokeds(fname, condition=condition, baseline=(None, 0))\n\n# set time instants in seconds (from 50 to 150ms in a step of 10ms)\ntimes = np.arange(0.05, 0.15, 0.01)\n# If times is set to None only 10 regularly spaced topographies will be shown\n\n# plot magnetometer data as topomaps\nevoked.plot_topomap(times, ch_type='mag')\n\n# compute a 50 ms bin to stabilize topographies\nevoked.plot_topomap(times, ch_type='mag', average=0.05)\n\n# plot gradiometer data (plots the RMS for each pair of gradiometers)\nevoked.plot_topomap(times, ch_type='grad')\n\n# plot magnetometer data as an animation\nevoked.animate_topomap(ch_type='mag', times=times, frame_rate=10)\n\n# plot magnetometer data as topomap at 1 time point : 100 ms\n# and add channel labels and title\nevoked.plot_topomap(0.1, ch_type='mag', show_names=True, colorbar=False,\n                    size=6, res=128, title='Auditory response')\nplt.subplots_adjust(left=0.01, right=0.99, bottom=0.01, top=0.88)"
      ], 
      "outputs": [], 
      "metadata": {
        "collapsed": false
      }
    }
  ], 
  "metadata": {
    "kernelspec": {
      "display_name": "Python 2", 
      "name": "python2", 
      "language": "python"
    }, 
    "language_info": {
      "mimetype": "text/x-python", 
      "nbconvert_exporter": "python", 
      "name": "python", 
      "file_extension": ".py", 
      "version": "2.7.11", 
      "pygments_lexer": "ipython2", 
      "codemirror_mode": {
        "version": 2, 
        "name": "ipython"
      }
    }
  }
}