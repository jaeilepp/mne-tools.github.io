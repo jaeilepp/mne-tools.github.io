{
  "nbformat_minor": 0, 
  "nbformat": 4, 
  "cells": [
    {
      "execution_count": null, 
      "cell_type": "code", 
      "source": [
        "%matplotlib inline"
      ], 
      "outputs": [], 
      "metadata": {
        "collapsed": false
      }
    }, 
    {
      "source": [
        "\n.. _tut_inverse_mne_dspm:\n\nSource localization with MNE/dSPM/sLORETA\n=========================================\n\nThe aim of this tutorials is to teach you how to compute and apply a linear\ninverse method such as MNE/dSPM/sLORETA on evoked/raw/epochs data.\n\n"
      ], 
      "cell_type": "markdown", 
      "metadata": {}
    }, 
    {
      "execution_count": null, 
      "cell_type": "code", 
      "source": [
        "import numpy as np\nimport matplotlib.pyplot as plt\n\nimport mne\nfrom mne.datasets import sample\nfrom mne.minimum_norm import (make_inverse_operator, apply_inverse,\n                              write_inverse_operator)"
      ], 
      "outputs": [], 
      "metadata": {
        "collapsed": false
      }
    }, 
    {
      "source": [
        "Process MEG data\n"
      ], 
      "cell_type": "markdown", 
      "metadata": {}
    }, 
    {
      "execution_count": null, 
      "cell_type": "code", 
      "source": [
        "data_path = sample.data_path()\nraw_fname = data_path + '/MEG/sample/sample_audvis_filt-0-40_raw.fif'\n\nraw = mne.io.read_raw_fif(raw_fname)\nevents = mne.find_events(raw, stim_channel='STI 014')\n\nevent_id = dict(aud_r=1)  # event trigger and conditions\ntmin = -0.2  # start of each epoch (200ms before the trigger)\ntmax = 0.5  # end of each epoch (500ms after the trigger)\nraw.info['bads'] = ['MEG 2443', 'EEG 053']\npicks = mne.pick_types(raw.info, meg=True, eeg=False, eog=True,\n                       exclude='bads')\nbaseline = (None, 0)  # means from the first instant to t = 0\nreject = dict(grad=4000e-13, mag=4e-12, eog=150e-6)\n\nepochs = mne.Epochs(raw, events, event_id, tmin, tmax, proj=True,\n                    picks=picks, baseline=baseline, reject=reject)"
      ], 
      "outputs": [], 
      "metadata": {
        "collapsed": false
      }
    }, 
    {
      "source": [
        "Compute regularized noise covariance\n------------------------------------\n\nFor more details see :ref:`tut_compute_covariance`.\n"
      ], 
      "cell_type": "markdown", 
      "metadata": {}
    }, 
    {
      "execution_count": null, 
      "cell_type": "code", 
      "source": [
        "noise_cov = mne.compute_covariance(\n    epochs, tmax=0., method=['shrunk', 'empirical'])\n\nfig_cov, fig_spectra = mne.viz.plot_cov(noise_cov, raw.info)"
      ], 
      "outputs": [], 
      "metadata": {
        "collapsed": false
      }
    }, 
    {
      "source": [
        "Compute the evoked response\n---------------------------\n"
      ], 
      "cell_type": "markdown", 
      "metadata": {}
    }, 
    {
      "execution_count": null, 
      "cell_type": "code", 
      "source": [
        "evoked = epochs.average()\nevoked.plot()\nevoked.plot_topomap(times=np.linspace(0.05, 0.15, 5), ch_type='mag')\n\n# Show whitening\nevoked.plot_white(noise_cov)"
      ], 
      "outputs": [], 
      "metadata": {
        "collapsed": false
      }
    }, 
    {
      "source": [
        "Inverse modeling: MNE/dSPM on evoked and raw data\n-------------------------------------------------\n"
      ], 
      "cell_type": "markdown", 
      "metadata": {}
    }, 
    {
      "execution_count": null, 
      "cell_type": "code", 
      "source": [
        "# Read the forward solution and compute the inverse operator\n\nfname_fwd = data_path + '/MEG/sample/sample_audvis-meg-oct-6-fwd.fif'\nfwd = mne.read_forward_solution(fname_fwd, surf_ori=True)\n\n# Restrict forward solution as necessary for MEG\nfwd = mne.pick_types_forward(fwd, meg=True, eeg=False)\n\n# make an MEG inverse operator\ninfo = evoked.info\ninverse_operator = make_inverse_operator(info, fwd, noise_cov,\n                                         loose=0.2, depth=0.8)\n\nwrite_inverse_operator('sample_audvis-meg-oct-6-inv.fif',\n                       inverse_operator)"
      ], 
      "outputs": [], 
      "metadata": {
        "collapsed": false
      }
    }, 
    {
      "source": [
        "Compute inverse solution\n------------------------\n"
      ], 
      "cell_type": "markdown", 
      "metadata": {}
    }, 
    {
      "execution_count": null, 
      "cell_type": "code", 
      "source": [
        "method = \"dSPM\"\nsnr = 3.\nlambda2 = 1. / snr ** 2\nstc = apply_inverse(evoked, inverse_operator, lambda2,\n                    method=method, pick_ori=None)\n\ndel fwd, inverse_operator, epochs  # to save memory"
      ], 
      "outputs": [], 
      "metadata": {
        "collapsed": false
      }
    }, 
    {
      "source": [
        "Visualization\n-------------\nView activation time-series\n"
      ], 
      "cell_type": "markdown", 
      "metadata": {}
    }, 
    {
      "execution_count": null, 
      "cell_type": "code", 
      "source": [
        "plt.plot(1e3 * stc.times, stc.data[::100, :].T)\nplt.xlabel('time (ms)')\nplt.ylabel('%s value' % method)\nplt.show()"
      ], 
      "outputs": [], 
      "metadata": {
        "collapsed": false
      }
    }, 
    {
      "source": [
        "Here we use peak getter to move visualization to the time point of the peak\nand draw a marker at the maximum peak vertex.\n"
      ], 
      "cell_type": "markdown", 
      "metadata": {}
    }, 
    {
      "execution_count": null, 
      "cell_type": "code", 
      "source": [
        "vertno_max, time_idx = stc.get_peak(hemi='rh', time_as_index=True)\n\nsubjects_dir = data_path + '/subjects'\nbrain = stc.plot(surface='inflated', hemi='rh', subjects_dir=subjects_dir)\n\nbrain.set_data_time_index(time_idx)\nbrain.add_foci(vertno_max, coords_as_verts=True, hemi='rh', color='blue',\n               scale_factor=0.6)\nbrain.scale_data_colormap(fmin=8, fmid=12, fmax=15, transparent=True)\nbrain.show_view('lateral')"
      ], 
      "outputs": [], 
      "metadata": {
        "collapsed": false
      }
    }, 
    {
      "source": [
        "Morph data to average brain\n---------------------------\n"
      ], 
      "cell_type": "markdown", 
      "metadata": {}
    }, 
    {
      "execution_count": null, 
      "cell_type": "code", 
      "source": [
        "stc_fsaverage = stc.morph(subject_to='fsaverage', subjects_dir=subjects_dir)\n\nbrain_fsaverage = stc_fsaverage.plot(surface='inflated', hemi='rh',\n                                     subjects_dir=subjects_dir)\nbrain_fsaverage.set_data_time_index(time_idx)\nbrain_fsaverage.scale_data_colormap(fmin=8, fmid=12, fmax=15, transparent=True)\nbrain_fsaverage.show_view('lateral')"
      ], 
      "outputs": [], 
      "metadata": {
        "collapsed": false
      }
    }, 
    {
      "source": [
        "Exercise\n--------\n   - By changing the method parameter to 'sloreta' recompute the source\n     estimates using the sLORETA method.\n"
      ], 
      "cell_type": "markdown", 
      "metadata": {}
    }
  ], 
  "metadata": {
    "kernelspec": {
      "display_name": "Python 2", 
      "name": "python2", 
      "language": "python"
    }, 
    "language_info": {
      "mimetype": "text/x-python", 
      "nbconvert_exporter": "python", 
      "name": "python", 
      "file_extension": ".py", 
      "version": "2.7.11", 
      "pygments_lexer": "ipython2", 
      "codemirror_mode": {
        "version": 2, 
        "name": "ipython"
      }
    }
  }
}