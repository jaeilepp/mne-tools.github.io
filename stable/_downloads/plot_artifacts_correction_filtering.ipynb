{
  "nbformat_minor": 0, 
  "nbformat": 4, 
  "cells": [
    {
      "execution_count": null, 
      "cell_type": "code", 
      "source": [
        "%matplotlib inline"
      ], 
      "outputs": [], 
      "metadata": {
        "collapsed": false
      }
    }, 
    {
      "source": [
        "\n.. _tut_artifacts_filter:\n\nFiltering and Resampling\n========================\n\nCertain artifacts are restricted to certain frequencies and can therefore\nbe fixed by filtering. An artifact that typically affects only some\nfrequencies is due to the power line.\n\nPower-line noise is a noise created by the electrical network.\nIt is composed of sharp peaks at 50Hz (or 60Hz depending on your\ngeographical location). Some peaks may also be present at the harmonic\nfrequencies, i.e. the integer multiples of\nthe power-line frequency, e.g. 100Hz, 150Hz, ... (or 120Hz, 180Hz, ...).\n"
      ], 
      "cell_type": "markdown", 
      "metadata": {}
    }, 
    {
      "execution_count": null, 
      "cell_type": "code", 
      "source": [
        "import numpy as np\nimport mne\nfrom mne.datasets import sample\n\ndata_path = sample.data_path()\nraw_fname = data_path + '/MEG/sample/sample_audvis_raw.fif'\nproj_fname = data_path + '/MEG/sample/sample_audvis_eog_proj.fif'\n\ntmin, tmax = 0, 20  # use the first 20s of data\n\n# Setup for reading the raw data (save memory by cropping the raw data\n# before loading it)\nraw = mne.io.read_raw_fif(raw_fname).crop(tmin, tmax).load_data()\nraw.info['bads'] = ['MEG 2443', 'EEG 053']  # bads + 2 more\n\nfmin, fmax = 2, 300  # look at frequencies between 2 and 300Hz\nn_fft = 2048  # the FFT size (n_fft). Ideally a power of 2\n\n# Pick a subset of channels (here for speed reason)\nselection = mne.read_selection('Left-temporal')\npicks = mne.pick_types(raw.info, meg='mag', eeg=False, eog=False,\n                       stim=False, exclude='bads', selection=selection)\n\n# Let's first check out all channel types\nraw.plot_psd(area_mode='range', tmax=10.0, picks=picks)"
      ], 
      "outputs": [], 
      "metadata": {
        "collapsed": false
      }
    }, 
    {
      "source": [
        "Removing power-line noise with notch filtering\n----------------------------------------------\n\nRemoving power-line noise can be done with a Notch filter, directly on the\nRaw object, specifying an array of frequency to be cut off:\n"
      ], 
      "cell_type": "markdown", 
      "metadata": {}
    }, 
    {
      "execution_count": null, 
      "cell_type": "code", 
      "source": [
        "raw.notch_filter(np.arange(60, 241, 60), picks=picks)\nraw.plot_psd(area_mode='range', tmax=10.0, picks=picks)"
      ], 
      "outputs": [], 
      "metadata": {
        "collapsed": false
      }
    }, 
    {
      "source": [
        "Removing power-line noise with low-pas filtering\n-------------------------------------------------\n\nIf you're only interested in low frequencies, below the peaks of power-line\nnoise you can simply low pass filter the data.\n"
      ], 
      "cell_type": "markdown", 
      "metadata": {}
    }, 
    {
      "execution_count": null, 
      "cell_type": "code", 
      "source": [
        "raw.filter(None, 50.)  # low pass filtering below 50 Hz\nraw.plot_psd(area_mode='range', tmax=10.0, picks=picks)"
      ], 
      "outputs": [], 
      "metadata": {
        "collapsed": false
      }
    }, 
    {
      "source": [
        "High-pass filtering to remove slow drifts\n-----------------------------------------\n\nIf you're only interested in low frequencies, below the peaks of power-line\nnoise you can simply high pass filter the data.\n"
      ], 
      "cell_type": "markdown", 
      "metadata": {}
    }, 
    {
      "execution_count": null, 
      "cell_type": "code", 
      "source": [
        "raw.filter(1., None)  # low pass filtering above 1 Hz\nraw.plot_psd(area_mode='range', tmax=10.0, picks=picks)"
      ], 
      "outputs": [], 
      "metadata": {
        "collapsed": false
      }
    }, 
    {
      "source": [
        "To do the low-pass and high-pass filtering in one step you can do\na so-called *band-pass* filter by running\n"
      ], 
      "cell_type": "markdown", 
      "metadata": {}
    }, 
    {
      "execution_count": null, 
      "cell_type": "code", 
      "source": [
        "raw.filter(1., 50.)  # band-pass filtering in the range 1 Hz - 50 Hz"
      ], 
      "outputs": [], 
      "metadata": {
        "collapsed": false
      }
    }, 
    {
      "source": [
        "Down-sampling (for performance reasons)\n---------------------------------------\n\nWhen performing experiments where timing is critical, a signal with a high\nsampling rate is desired. However, having a signal with a much higher\nsampling rate than necessary needlessly consumes memory and slows down\ncomputations operating on the data. To avoid that, you can down-sample\nyour time series.\n\nData resampling can be done with *resample* methods.\n"
      ], 
      "cell_type": "markdown", 
      "metadata": {}
    }, 
    {
      "execution_count": null, 
      "cell_type": "code", 
      "source": [
        "raw.resample(100, npad=\"auto\")  # set sampling frequency to 100Hz\nraw.plot_psd(area_mode='range', tmax=10.0, picks=picks)"
      ], 
      "outputs": [], 
      "metadata": {
        "collapsed": false
      }
    }, 
    {
      "source": [
        "Since down-sampling reduces the timing precision of events, you might want to\nfirst extract epochs and down-sampling the Epochs object. You can do this\nusing the :func:`mne.Epochs.resample` method.\n"
      ], 
      "cell_type": "markdown", 
      "metadata": {}
    }
  ], 
  "metadata": {
    "kernelspec": {
      "display_name": "Python 2", 
      "name": "python2", 
      "language": "python"
    }, 
    "language_info": {
      "mimetype": "text/x-python", 
      "nbconvert_exporter": "python", 
      "name": "python", 
      "file_extension": ".py", 
      "version": "2.7.11", 
      "pygments_lexer": "ipython2", 
      "codemirror_mode": {
        "version": 2, 
        "name": "ipython"
      }
    }
  }
}