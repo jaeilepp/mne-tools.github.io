{
  "nbformat_minor": 0, 
  "nbformat": 4, 
  "cells": [
    {
      "execution_count": null, 
      "cell_type": "code", 
      "source": [
        "%matplotlib inline"
      ], 
      "outputs": [], 
      "metadata": {
        "collapsed": false
      }
    }, 
    {
      "source": [
        "\n.. _tut_modifying_data_inplace:\n\nModifying data in-place\n=======================\n"
      ], 
      "cell_type": "markdown", 
      "metadata": {}
    }, 
    {
      "execution_count": null, 
      "cell_type": "code", 
      "source": [
        "from __future__ import print_function\n\nimport mne\nimport os.path as op\nimport numpy as np\nfrom matplotlib import pyplot as plt"
      ], 
      "outputs": [], 
      "metadata": {
        "collapsed": false
      }
    }, 
    {
      "source": [
        "It is often necessary to modify data once you have loaded it into memory.\nCommon examples of this are signal processing, feature extraction, and data\ncleaning. Some functionality is pre-built into MNE-python, though it is also\npossible to apply an arbitrary function to the data.\n"
      ], 
      "cell_type": "markdown", 
      "metadata": {}
    }, 
    {
      "execution_count": null, 
      "cell_type": "code", 
      "source": [
        "# Load an example dataset, the preload flag loads the data into memory now\ndata_path = op.join(mne.datasets.sample.data_path(), 'MEG',\n                    'sample', 'sample_audvis_raw.fif')\nraw = mne.io.read_raw_fif(data_path, preload=True, verbose=False)\nraw = raw.crop(0, 2)\nprint(raw)"
      ], 
      "outputs": [], 
      "metadata": {
        "collapsed": false
      }
    }, 
    {
      "source": [
        "Signal processing\n-----------------\n\nMost MNE objects have in-built methods for filtering:\n"
      ], 
      "cell_type": "markdown", 
      "metadata": {}
    }, 
    {
      "execution_count": null, 
      "cell_type": "code", 
      "source": [
        "filt_bands = [(1, 3), (3, 10), (10, 20), (20, 60)]\nf, (ax, ax2) = plt.subplots(2, 1, figsize=(15, 10))\n_ = ax.plot(raw._data[0])\nfor fband in filt_bands:\n    raw_filt = raw.copy()\n    raw_filt.filter(*fband)\n    _ = ax2.plot(raw_filt._data[0])\nax2.legend(filt_bands)\nax.set_title('Raw data')\nax2.set_title('Band-pass filtered data')"
      ], 
      "outputs": [], 
      "metadata": {
        "collapsed": false
      }
    }, 
    {
      "source": [
        "In addition, there are functions for applying the Hilbert transform, which is\nuseful to calculate phase / amplitude of your signal\n"
      ], 
      "cell_type": "markdown", 
      "metadata": {}
    }, 
    {
      "execution_count": null, 
      "cell_type": "code", 
      "source": [
        "# Filter signal, then take hilbert transform\nraw_band = raw.copy()\nraw_band.filter(12, 18)\nraw_hilb = raw_band.copy()\nhilb_picks = mne.pick_types(raw_band.info, meg=False, eeg=True)\nraw_hilb.apply_hilbert(hilb_picks)\nprint(raw_hilb._data.dtype)"
      ], 
      "outputs": [], 
      "metadata": {
        "collapsed": false
      }
    }, 
    {
      "source": [
        "Finally, it is possible to apply arbitrary to your data to do what you want.\nHere we will use this to take the amplitude and phase of the hilbert\ntransformed data. (note that you can use `amplitude=True` in the call to\n:func:`mne.io.Raw.apply_hilbert` to do this automatically).\n"
      ], 
      "cell_type": "markdown", 
      "metadata": {}
    }, 
    {
      "execution_count": null, 
      "cell_type": "code", 
      "source": [
        "# Take the amplitude and phase\nraw_amp = raw_hilb.copy()\nraw_amp.apply_function(np.abs, hilb_picks, float, 1)\nraw_phase = raw_hilb.copy()\nraw_phase.apply_function(np.angle, hilb_picks, float, 1)\n\nf, (a1, a2) = plt.subplots(2, 1, figsize=(15, 10))\na1.plot(raw_band._data[hilb_picks[0]])\na1.plot(raw_amp._data[hilb_picks[0]])\na2.plot(raw_phase._data[hilb_picks[0]])\na1.set_title('Amplitude of frequency band')\na2.set_title('Phase of frequency band')"
      ], 
      "outputs": [], 
      "metadata": {
        "collapsed": false
      }
    }
  ], 
  "metadata": {
    "kernelspec": {
      "display_name": "Python 2", 
      "name": "python2", 
      "language": "python"
    }, 
    "language_info": {
      "mimetype": "text/x-python", 
      "nbconvert_exporter": "python", 
      "name": "python", 
      "file_extension": ".py", 
      "version": "2.7.11", 
      "pygments_lexer": "ipython2", 
      "codemirror_mode": {
        "version": 2, 
        "name": "ipython"
      }
    }
  }
}