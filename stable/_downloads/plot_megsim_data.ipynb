{
  "nbformat_minor": 0, 
  "nbformat": 4, 
  "cells": [
    {
      "execution_count": null, 
      "cell_type": "code", 
      "source": [
        "%matplotlib inline"
      ], 
      "outputs": [], 
      "metadata": {
        "collapsed": false
      }
    }, 
    {
      "source": [
        "\n# MEGSIM experimental and simulation datasets\n\n\nThe MEGSIM consists of experimental and simulated MEG data\nwhich can be useful for reproducing research results.\n\nThe MEGSIM files will be dowloaded automatically.\n\nThe datasets are documented in:\nAine CJ, Sanfratello L, Ranken D, Best E, MacArthur JA, Wallace T,\nGilliam K, Donahue CH, Montano R, Bryant JE, Scott A, Stephen JM\n(2012) MEG-SIM: A Web Portal for Testing MEG Analysis Methods using\nRealistic Simulated and Empirical Data. Neuroinformatics 10:141-158\n"
      ], 
      "cell_type": "markdown", 
      "metadata": {}
    }, 
    {
      "execution_count": null, 
      "cell_type": "code", 
      "source": [
        "import mne\nfrom mne import find_events, Epochs, pick_types, read_evokeds\nfrom mne.datasets.megsim import load_data\n\nprint(__doc__)\n\ncondition = 'visual'  # or 'auditory' or 'somatosensory'\n\n# Load experimental RAW files for the visual condition\nraw_fnames = load_data(condition=condition, data_format='raw',\n                       data_type='experimental', verbose=True)\n\n# Load simulation evoked files for the visual condition\nevoked_fnames = load_data(condition=condition, data_format='evoked',\n                          data_type='simulation', verbose=True)\n\nraw = mne.io.read_raw_fif(raw_fnames[0])\nevents = find_events(raw, stim_channel=\"STI 014\", shortest_event=1)\n\n# Visualize raw file\nraw.plot()\n\n# Make an evoked file from the experimental data\npicks = pick_types(raw.info, meg=True, eog=True, exclude='bads')\n\n# Read epochs\nevent_id, tmin, tmax = 9, -0.2, 0.5\nepochs = Epochs(raw, events, event_id, tmin, tmax, baseline=(None, 0),\n                picks=picks, reject=dict(grad=4000e-13, mag=4e-12, eog=150e-6))\nevoked = epochs.average()  # average epochs and get an Evoked dataset.\nevoked.plot()\n\n# Compare to the simulated data\nevoked_sim = read_evokeds(evoked_fnames[0], condition=0)\nevoked_sim.plot()"
      ], 
      "outputs": [], 
      "metadata": {
        "collapsed": false
      }
    }
  ], 
  "metadata": {
    "kernelspec": {
      "display_name": "Python 2", 
      "name": "python2", 
      "language": "python"
    }, 
    "language_info": {
      "mimetype": "text/x-python", 
      "nbconvert_exporter": "python", 
      "name": "python", 
      "file_extension": ".py", 
      "version": "2.7.11", 
      "pygments_lexer": "ipython2", 
      "codemirror_mode": {
        "version": 2, 
        "name": "ipython"
      }
    }
  }
}