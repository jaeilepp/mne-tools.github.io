{
  "nbformat_minor": 0, 
  "nbformat": 4, 
  "cells": [
    {
      "execution_count": null, 
      "cell_type": "code", 
      "source": [
        "%matplotlib inline"
      ], 
      "outputs": [], 
      "metadata": {
        "collapsed": false
      }
    }, 
    {
      "source": [
        "\n# Reading BEM surfaces from a forward solution\n\n\nPlot BEM surfaces used for forward solution generation.\n"
      ], 
      "cell_type": "markdown", 
      "metadata": {}
    }, 
    {
      "execution_count": null, 
      "cell_type": "code", 
      "source": [
        "# Author: Alexandre Gramfort <alexandre.gramfort@telecom-paristech.fr>\n#\n# License: BSD (3-clause)\n\nimport mne\nfrom mne.datasets import sample\n\nprint(__doc__)\n\ndata_path = sample.data_path()\nfname = data_path + '/subjects/sample/bem/sample-5120-5120-5120-bem-sol.fif'\n\nsurfaces = mne.read_bem_surfaces(fname, patch_stats=True)\n\nprint(\"Number of surfaces : %d\" % len(surfaces))"
      ], 
      "outputs": [], 
      "metadata": {
        "collapsed": false
      }
    }, 
    {
      "source": [
        "Show result\n"
      ], 
      "cell_type": "markdown", 
      "metadata": {}
    }, 
    {
      "execution_count": null, 
      "cell_type": "code", 
      "source": [
        "head_col = (0.95, 0.83, 0.83)  # light pink\nskull_col = (0.91, 0.89, 0.67)\nbrain_col = (0.67, 0.89, 0.91)  # light blue\ncolors = [head_col, skull_col, brain_col]\n\n# 3D source space\nfrom mayavi import mlab  # noqa\n\nmlab.figure(size=(600, 600), bgcolor=(0, 0, 0))\nfor c, surf in zip(colors, surfaces):\n    points = surf['rr']\n    faces = surf['tris']\n    mlab.triangular_mesh(points[:, 0], points[:, 1], points[:, 2], faces,\n                         color=c, opacity=0.3)"
      ], 
      "outputs": [], 
      "metadata": {
        "collapsed": false
      }
    }
  ], 
  "metadata": {
    "kernelspec": {
      "display_name": "Python 2", 
      "name": "python2", 
      "language": "python"
    }, 
    "language_info": {
      "mimetype": "text/x-python", 
      "nbconvert_exporter": "python", 
      "name": "python", 
      "file_extension": ".py", 
      "version": "2.7.11", 
      "pygments_lexer": "ipython2", 
      "codemirror_mode": {
        "version": 2, 
        "name": "ipython"
      }
    }
  }
}