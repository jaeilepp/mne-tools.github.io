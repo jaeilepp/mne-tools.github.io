{
  "nbformat_minor": 0, 
  "nbformat": 4, 
  "cells": [
    {
      "execution_count": null, 
      "cell_type": "code", 
      "source": [
        "%matplotlib inline"
      ], 
      "outputs": [], 
      "metadata": {
        "collapsed": false
      }
    }, 
    {
      "source": [
        "\n==============================================\nCompute effect-matched-spatial filtering (EMS)\n==============================================\n\nThis example computes the EMS to reconstruct the time course of\nthe experimental effect as described in:\n\nAaron Schurger, Sebastien Marti, and Stanislas Dehaene, \"Reducing multi-sensor\ndata to a single time course that reveals experimental effects\",\nBMC Neuroscience 2013, 14:122\n\n\nThis technique is used to create spatial filters based on the\ndifference between two conditions. By projecting the trial onto the\ncorresponding spatial filters, surrogate single trials are created\nin which multi-sensor activity is reduced to one time series which\nexposes experimental effects, if present.\n\nWe will first plot a trials x times image of the single trials and order the\ntrials by condition. A second plot shows the average time series for each\ncondition. Finally a topographic plot is created which exhibits the\ntemporal evolution of the spatial filters.\n"
      ], 
      "cell_type": "markdown", 
      "metadata": {}
    }, 
    {
      "execution_count": null, 
      "cell_type": "code", 
      "source": [
        "# Author: Denis Engemann <denis.engemann@gmail.com>\n#\n# License: BSD (3-clause)\n\nimport matplotlib.pyplot as plt\n\nimport mne\nfrom mne import io\nfrom mne.datasets import sample\nfrom mne.decoding import compute_ems\n\nprint(__doc__)\n\ndata_path = sample.data_path()\n\n# Set parameters\nraw_fname = data_path + '/MEG/sample/sample_audvis_filt-0-40_raw.fif'\nevent_fname = data_path + '/MEG/sample/sample_audvis_filt-0-40_raw-eve.fif'\nevent_ids = {'AudL': 1, 'VisL': 3, 'AudR': 2, 'VisR': 4}\ntmin = -0.2\ntmax = 0.5\n\n# Read data and create epochs\nraw = io.read_raw_fif(raw_fname, preload=True)\nraw.filter(1, 45)\nevents = mne.read_events(event_fname)\n\ninclude = []  # or stim channels ['STI 014']\nch_type = 'grad'\npicks = mne.pick_types(raw.info, meg=ch_type, eeg=False, stim=False, eog=True,\n                       include=include, exclude='bads')\n\nreject = dict(grad=4000e-13, eog=150e-6)\n\nepochs = mne.Epochs(raw, events, event_ids, tmin, tmax, picks=picks,\n                    baseline=None, reject=reject)\n\n# Let's equalize the trial counts in each condition\nepochs.equalize_event_counts(epochs.event_id, copy=False)\n\n# compute surrogate time series\nsurrogates, filters, conditions = compute_ems(epochs, ['AudL', 'VisL'])\n\ntimes = epochs.times * 1e3\nplt.figure()\nplt.title('single trial surrogates')\nplt.imshow(surrogates[conditions.argsort()], origin='lower', aspect='auto',\n           extent=[times[0], times[-1], 1, len(surrogates)],\n           cmap='RdBu_r')\nplt.xlabel('Time (ms)')\nplt.ylabel('Trials (reordered by condition)')\n\nplt.figure()\nplt.title('Average EMS signal')\n\nmappings = [(k, v) for k, v in event_ids.items() if v in conditions]\nfor key, value in mappings:\n    ems_ave = surrogates[conditions == value]\n    ems_ave *= 1e13\n    plt.plot(times, ems_ave.mean(0), label=key)\nplt.xlabel('Time (ms)')\nplt.ylabel('fT/cm')\nplt.legend(loc='best')\n\n\n# visualize spatial filters across time\nplt.show()\nevoked = epochs.average()\nevoked.data = filters\nevoked.plot_topomap(ch_type=ch_type)"
      ], 
      "outputs": [], 
      "metadata": {
        "collapsed": false
      }
    }
  ], 
  "metadata": {
    "kernelspec": {
      "display_name": "Python 2", 
      "name": "python2", 
      "language": "python"
    }, 
    "language_info": {
      "mimetype": "text/x-python", 
      "nbconvert_exporter": "python", 
      "name": "python", 
      "file_extension": ".py", 
      "version": "2.7.11", 
      "pygments_lexer": "ipython2", 
      "codemirror_mode": {
        "version": 2, 
        "name": "ipython"
      }
    }
  }
}