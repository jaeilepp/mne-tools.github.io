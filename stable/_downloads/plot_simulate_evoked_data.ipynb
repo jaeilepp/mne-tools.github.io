{
  "nbformat_minor": 0, 
  "nbformat": 4, 
  "cells": [
    {
      "execution_count": null, 
      "cell_type": "code", 
      "source": [
        "%matplotlib inline"
      ], 
      "outputs": [], 
      "metadata": {
        "collapsed": false
      }
    }, 
    {
      "source": [
        "\n# Generate simulated evoked data\n\n\n"
      ], 
      "cell_type": "markdown", 
      "metadata": {}
    }, 
    {
      "execution_count": null, 
      "cell_type": "code", 
      "source": [
        "# Author: Daniel Strohmeier <daniel.strohmeier@tu-ilmenau.de>\n#         Alexandre Gramfort <alexandre.gramfort@telecom-paristech.fr>\n#\n# License: BSD (3-clause)\n\nimport numpy as np\nimport matplotlib.pyplot as plt\n\nimport mne\nfrom mne.datasets import sample\nfrom mne.time_frequency import fit_iir_model_raw\nfrom mne.viz import plot_sparse_source_estimates\nfrom mne.simulation import simulate_sparse_stc, simulate_evoked\n\nprint(__doc__)"
      ], 
      "outputs": [], 
      "metadata": {
        "collapsed": false
      }
    }, 
    {
      "source": [
        "Load real data as templates\n"
      ], 
      "cell_type": "markdown", 
      "metadata": {}
    }, 
    {
      "execution_count": null, 
      "cell_type": "code", 
      "source": [
        "data_path = sample.data_path()\n\nraw = mne.io.read_raw_fif(data_path + '/MEG/sample/sample_audvis_raw.fif')\nproj = mne.read_proj(data_path + '/MEG/sample/sample_audvis_ecg-proj.fif')\nraw.info['projs'] += proj\nraw.info['bads'] = ['MEG 2443', 'EEG 053']  # mark bad channels\n\nfwd_fname = data_path + '/MEG/sample/sample_audvis-meg-eeg-oct-6-fwd.fif'\nave_fname = data_path + '/MEG/sample/sample_audvis-no-filter-ave.fif'\ncov_fname = data_path + '/MEG/sample/sample_audvis-cov.fif'\n\nfwd = mne.read_forward_solution(fwd_fname, force_fixed=True, surf_ori=True)\nfwd = mne.pick_types_forward(fwd, meg=True, eeg=True, exclude=raw.info['bads'])\ncov = mne.read_cov(cov_fname)\ninfo = mne.io.read_info(ave_fname)\n\nlabel_names = ['Aud-lh', 'Aud-rh']\nlabels = [mne.read_label(data_path + '/MEG/sample/labels/%s.label' % ln)\n          for ln in label_names]"
      ], 
      "outputs": [], 
      "metadata": {
        "collapsed": false
      }
    }, 
    {
      "source": [
        "Generate source time courses from 2 dipoles and the correspond evoked data\n"
      ], 
      "cell_type": "markdown", 
      "metadata": {}
    }, 
    {
      "execution_count": null, 
      "cell_type": "code", 
      "source": [
        "times = np.arange(300, dtype=np.float) / raw.info['sfreq'] - 0.1\nrng = np.random.RandomState(42)\n\n\ndef data_fun(times):\n    \"\"\"Function to generate random source time courses\"\"\"\n    return (1e-9 * np.sin(30. * times) *\n            np.exp(- (times - 0.15 + 0.05 * rng.randn(1)) ** 2 / 0.01))\n\nstc = simulate_sparse_stc(fwd['src'], n_dipoles=2, times=times,\n                          random_state=42, labels=labels, data_fun=data_fun)"
      ], 
      "outputs": [], 
      "metadata": {
        "collapsed": false
      }
    }, 
    {
      "source": [
        "Generate noisy evoked data\n"
      ], 
      "cell_type": "markdown", 
      "metadata": {}
    }, 
    {
      "execution_count": null, 
      "cell_type": "code", 
      "source": [
        "picks = mne.pick_types(raw.info, meg=True, exclude='bads')\niir_filter = fit_iir_model_raw(raw, order=5, picks=picks, tmin=60, tmax=180)[1]\nsnr = 6.  # dB\nevoked = simulate_evoked(fwd, stc, info, cov, snr, iir_filter=iir_filter)"
      ], 
      "outputs": [], 
      "metadata": {
        "collapsed": false
      }
    }, 
    {
      "source": [
        "Plot\n"
      ], 
      "cell_type": "markdown", 
      "metadata": {}
    }, 
    {
      "execution_count": null, 
      "cell_type": "code", 
      "source": [
        "plot_sparse_source_estimates(fwd['src'], stc, bgcolor=(1, 1, 1),\n                             opacity=0.5, high_resolution=True)\n\nplt.figure()\nplt.psd(evoked.data[0])\n\nevoked.plot()"
      ], 
      "outputs": [], 
      "metadata": {
        "collapsed": false
      }
    }
  ], 
  "metadata": {
    "kernelspec": {
      "display_name": "Python 2", 
      "name": "python2", 
      "language": "python"
    }, 
    "language_info": {
      "mimetype": "text/x-python", 
      "nbconvert_exporter": "python", 
      "name": "python", 
      "file_extension": ".py", 
      "version": "2.7.11", 
      "pygments_lexer": "ipython2", 
      "codemirror_mode": {
        "version": 2, 
        "name": "ipython"
      }
    }
  }
}