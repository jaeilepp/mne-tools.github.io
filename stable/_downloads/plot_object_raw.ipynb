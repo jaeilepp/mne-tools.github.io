{
  "nbformat_minor": 0, 
  "nbformat": 4, 
  "cells": [
    {
      "execution_count": null, 
      "cell_type": "code", 
      "source": [
        "%matplotlib inline"
      ], 
      "outputs": [], 
      "metadata": {
        "collapsed": false
      }
    }, 
    {
      "source": [
        "\n.. _tut_raw_objects:\n\nThe :class:`Raw <mne.io.Raw>` data structure: continuous data\n=============================================================\n"
      ], 
      "cell_type": "markdown", 
      "metadata": {}
    }, 
    {
      "execution_count": null, 
      "cell_type": "code", 
      "source": [
        "from __future__ import print_function\n\nimport mne\nimport os.path as op\nfrom matplotlib import pyplot as plt"
      ], 
      "outputs": [], 
      "metadata": {
        "collapsed": false
      }
    }, 
    {
      "source": [
        "Continuous data is stored in objects of type :class:`Raw <mne.io.RawFIF>`.\nThe core data structure is simply a 2D numpy array (channels \u00d7 samples,\n`._data`) combined with an :class:`Info <mne.Info>` object\n(`.info`) (:ref:`tut_info_objects`.\n\nThe most common way to load continuous data is from a .fif file. For more\ninformation on :ref:`loading data from other formats <ch_convert>`, or\ncreating it :ref:`from scratch <tut_creating_data_structures>`.\n"
      ], 
      "cell_type": "markdown", 
      "metadata": {}
    }, 
    {
      "source": [
        "Loading continuous data\n-----------------------\n"
      ], 
      "cell_type": "markdown", 
      "metadata": {}
    }, 
    {
      "execution_count": null, 
      "cell_type": "code", 
      "source": [
        "# Load an example dataset, the preload flag loads the data into memory now\ndata_path = op.join(mne.datasets.sample.data_path(), 'MEG',\n                    'sample', 'sample_audvis_raw.fif')\nraw = mne.io.RawFIF(data_path, preload=True, verbose=False)\n\n# Give the sample rate\nprint('sample rate:', raw.info['sfreq'], 'Hz')\n# Give the size of the data matrix\nprint('channels x samples:', raw._data.shape)"
      ], 
      "outputs": [], 
      "metadata": {
        "collapsed": false
      }
    }, 
    {
      "source": [
        "Information about the channels contained in the :class:`Raw <mne.io.RawFIF>`\nobject is contained in the :class:`Info <mne.Info>` attribute.\nThis is essentially a dictionary with a number of relevant fields (see\n:ref:`tut_info_objects`).\n"
      ], 
      "cell_type": "markdown", 
      "metadata": {}
    }, 
    {
      "source": [
        "Indexing data\n-------------\n\nThere are two ways to access the data stored within :class:`Raw\n<mne.io.RawFIF>` objects. One is by accessing the underlying data array, and\nthe other is to index the :class:`Raw <mne.io.RawFIF>` object directly.\n\nTo access the data array of :class:`Raw <mne.io.Raw>` objects, use the\n`_data` attribute. Note that this is only present if `preload==True`.\n"
      ], 
      "cell_type": "markdown", 
      "metadata": {}
    }, 
    {
      "execution_count": null, 
      "cell_type": "code", 
      "source": [
        "print('Shape of data array:', raw._data.shape)\narray_data = raw._data[0, :1000]\n_ = plt.plot(array_data)"
      ], 
      "outputs": [], 
      "metadata": {
        "collapsed": false
      }
    }, 
    {
      "source": [
        "You can also pass an index directly to the :class:`Raw <mne.io.RawFIF>`\nobject. This will return an array of times, as well as the data representing\nthose timepoints. This may be used even if the data is not preloaded:\n"
      ], 
      "cell_type": "markdown", 
      "metadata": {}
    }, 
    {
      "execution_count": null, 
      "cell_type": "code", 
      "source": [
        "# Extract data from the first 5 channels, from 1 s to 3 s.\nsfreq = raw.info['sfreq']\ndata, times = raw[:5, int(sfreq * 1):int(sfreq * 3)]\n_ = plt.plot(times, data.T)\n_ = plt.title('Sample channels')"
      ], 
      "outputs": [], 
      "metadata": {
        "collapsed": false
      }
    }, 
    {
      "source": [
        "-----------------------------------------\nSelecting subsets of channels and samples\n-----------------------------------------\n\nIt is possible to use more intelligent indexing to extract data, using\nchannel names, types or time ranges.\n"
      ], 
      "cell_type": "markdown", 
      "metadata": {}
    }, 
    {
      "execution_count": null, 
      "cell_type": "code", 
      "source": [
        "# Pull all MEG gradiometer channels:\n# Make sure to use .copy() or it will overwrite the data\nmeg_only = raw.copy().pick_types(meg=True)\neeg_only = raw.copy().pick_types(meg=False, eeg=True)\n\n# The MEG flag in particular lets you specify a string for more specificity\ngrad_only = raw.copy().pick_types(meg='grad')\n\n# Or you can use custom channel names\npick_chans = ['MEG 0112', 'MEG 0111', 'MEG 0122', 'MEG 0123']\nspecific_chans = raw.copy().pick_channels(pick_chans)\nprint(meg_only, eeg_only, grad_only, specific_chans, sep='\\n')"
      ], 
      "outputs": [], 
      "metadata": {
        "collapsed": false
      }
    }, 
    {
      "source": [
        "Notice the different scalings of these types\n"
      ], 
      "cell_type": "markdown", 
      "metadata": {}
    }, 
    {
      "execution_count": null, 
      "cell_type": "code", 
      "source": [
        "f, (a1, a2) = plt.subplots(2, 1)\neeg, times = eeg_only[0, :int(sfreq * 2)]\nmeg, times = meg_only[0, :int(sfreq * 2)]\na1.plot(times, meg[0])\na2.plot(times, eeg[0])\ndel eeg, meg, meg_only, grad_only, eeg_only, data, specific_chans"
      ], 
      "outputs": [], 
      "metadata": {
        "collapsed": false
      }
    }, 
    {
      "source": [
        "You can restrict the data to a specific time range\n"
      ], 
      "cell_type": "markdown", 
      "metadata": {}
    }, 
    {
      "execution_count": null, 
      "cell_type": "code", 
      "source": [
        "raw = raw.crop(0, 50)  # in seconds\nprint('New time range from', raw.times.min(), 's to', raw.times.max(), 's')"
      ], 
      "outputs": [], 
      "metadata": {
        "collapsed": false
      }
    }, 
    {
      "source": [
        "And drop channels by name\n"
      ], 
      "cell_type": "markdown", 
      "metadata": {}
    }, 
    {
      "execution_count": null, 
      "cell_type": "code", 
      "source": [
        "nchan = raw.info['nchan']\nraw = raw.drop_channels(['MEG 0241', 'EEG 001'])\nprint('Number of channels reduced from', nchan, 'to', raw.info['nchan'])"
      ], 
      "outputs": [], 
      "metadata": {
        "collapsed": false
      }
    }, 
    {
      "source": [
        "--------------------------------------------------\nConcatenating :class:`Raw <mne.io.RawFIF>` objects\n--------------------------------------------------\n\n:class:`Raw <mne.io.RawFIF>` objects can be concatenated in time by using the\n:func:`append <mne.io.RawFIF.append>` function. For this to work, they must\nhave the same number of channels and their :class:`Info\n<mne.Info>` structures should be compatible.\n"
      ], 
      "cell_type": "markdown", 
      "metadata": {}
    }, 
    {
      "execution_count": null, 
      "cell_type": "code", 
      "source": [
        "# Create multiple :class:`Raw <mne.io.RawFIF>` objects\nraw1 = raw.copy().crop(0, 10)\nraw2 = raw.copy().crop(10, 20)\nraw3 = raw.copy().crop(20, 40)\n\n# Concatenate in time (also works without preloading)\nraw1.append([raw2, raw3])\nprint('Time extends from', raw1.times.min(), 's to', raw1.times.max(), 's')"
      ], 
      "outputs": [], 
      "metadata": {
        "collapsed": false
      }
    }
  ], 
  "metadata": {
    "kernelspec": {
      "display_name": "Python 2", 
      "name": "python2", 
      "language": "python"
    }, 
    "language_info": {
      "mimetype": "text/x-python", 
      "nbconvert_exporter": "python", 
      "name": "python", 
      "file_extension": ".py", 
      "version": "2.7.11", 
      "pygments_lexer": "ipython2", 
      "codemirror_mode": {
        "version": 2, 
        "name": "ipython"
      }
    }
  }
}