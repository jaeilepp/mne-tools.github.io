{
  "nbformat_minor": 0, 
  "nbformat": 4, 
  "cells": [
    {
      "execution_count": null, 
      "cell_type": "code", 
      "source": [
        "%matplotlib inline"
      ], 
      "outputs": [], 
      "metadata": {
        "collapsed": false
      }
    }, 
    {
      "source": [
        "\n# Source localization with single dipole fit\n\n\nThis shows how to fit a dipole using mne-python.\n\nFor a comparison of fits between MNE-C and mne-python, see:\n\n    https://gist.github.com/Eric89GXL/ca55f791200fe1dc3dd2\n\nNote that for 3D graphics you may need to choose a specific IPython\nbackend, such as:\n\n`%matplotlib qt` or `%matplotlib wx`\n"
      ], 
      "cell_type": "markdown", 
      "metadata": {}
    }, 
    {
      "execution_count": null, 
      "cell_type": "code", 
      "source": [
        "from os import path as op\nimport numpy as np\nimport matplotlib.pyplot as plt\n\nimport mne\nfrom mne.forward import make_forward_dipole\nfrom mne.evoked import combine_evoked\nfrom mne.simulation import simulate_evoked\n\ndata_path = mne.datasets.sample.data_path()\nsubjects_dir = op.join(data_path, 'subjects')\nfname_ave = op.join(data_path, 'MEG', 'sample', 'sample_audvis-ave.fif')\nfname_cov = op.join(data_path, 'MEG', 'sample', 'sample_audvis-cov.fif')\nfname_bem = op.join(subjects_dir, 'sample', 'bem', 'sample-5120-bem-sol.fif')\nfname_trans = op.join(data_path, 'MEG', 'sample',\n                      'sample_audvis_raw-trans.fif')\nfname_surf_lh = op.join(subjects_dir, 'sample', 'surf', 'lh.white')"
      ], 
      "outputs": [], 
      "metadata": {
        "collapsed": false
      }
    }, 
    {
      "source": [
        "Let's localize the N100m (using MEG only)\n"
      ], 
      "cell_type": "markdown", 
      "metadata": {}
    }, 
    {
      "execution_count": null, 
      "cell_type": "code", 
      "source": [
        "evoked = mne.read_evokeds(fname_ave, condition='Right Auditory',\n                          baseline=(None, 0))\nevoked.pick_types(meg=True, eeg=False)\nevoked_full = evoked.copy()\nevoked.crop(0.07, 0.08)\n\n# Fit a dipole\ndip = mne.fit_dipole(evoked, fname_cov, fname_bem, fname_trans)[0]\n\n# Plot the result in 3D brain\ndip.plot_locations(fname_trans, 'sample', subjects_dir)"
      ], 
      "outputs": [], 
      "metadata": {
        "collapsed": false
      }
    }, 
    {
      "source": [
        "Calculate and visualise magnetic field predicted by dipole with maximum GOF\nand compare to the measured data, highlighting the ipsilateral (right) source\n"
      ], 
      "cell_type": "markdown", 
      "metadata": {}
    }, 
    {
      "execution_count": null, 
      "cell_type": "code", 
      "source": [
        "fwd, stc = make_forward_dipole(dip, fname_bem, evoked.info, fname_trans)\npred_evoked = simulate_evoked(fwd, stc, evoked.info, None, snr=np.inf)\n\n# find time point with highes GOF to plot\nbest_idx = np.argmax(dip.gof)\nbest_time = dip.times[best_idx]\n# rememeber to create a subplot for the colorbar\nfig, axes = plt.subplots(nrows=1, ncols=4, figsize=[10., 3.4])\nvmin, vmax = -400, 400  # make sure each plot has same colour range\n\n# first plot the topography at the time of the best fitting (single) dipole\nplot_params = dict(times=best_time, ch_type='mag', outlines='skirt',\n                   colorbar=False)\nevoked.plot_topomap(time_format='Measured field', axes=axes[0], **plot_params)\n\n# compare this to the predicted field\npred_evoked.plot_topomap(time_format='Predicted field', axes=axes[1],\n                         **plot_params)\n\n# Subtract predicted from measured data (apply equal weights)\ndiff = combine_evoked([evoked, pred_evoked], [1, -1])\nplot_params['colorbar'] = True\ndiff.plot_topomap(time_format='Difference', axes=axes[2], **plot_params)\nplt.suptitle('Comparison of measured and predicted fields '\n             'at {:.0f} ms'.format(best_time * 1000.), fontsize=16)"
      ], 
      "outputs": [], 
      "metadata": {
        "collapsed": false
      }
    }, 
    {
      "source": [
        "Estimate the time course of a single dipole with fixed position and\norientation (the one that maximized GOF)over the entire interval\n"
      ], 
      "cell_type": "markdown", 
      "metadata": {}
    }, 
    {
      "execution_count": null, 
      "cell_type": "code", 
      "source": [
        "dip_fixed = mne.fit_dipole(evoked_full, fname_cov, fname_bem, fname_trans,\n                           pos=dip.pos[best_idx], ori=dip.ori[best_idx])[0]\ndip_fixed.plot()"
      ], 
      "outputs": [], 
      "metadata": {
        "collapsed": false
      }
    }
  ], 
  "metadata": {
    "kernelspec": {
      "display_name": "Python 2", 
      "name": "python2", 
      "language": "python"
    }, 
    "language_info": {
      "mimetype": "text/x-python", 
      "nbconvert_exporter": "python", 
      "name": "python", 
      "file_extension": ".py", 
      "version": "2.7.11", 
      "pygments_lexer": "ipython2", 
      "codemirror_mode": {
        "version": 2, 
        "name": "ipython"
      }
    }
  }
}