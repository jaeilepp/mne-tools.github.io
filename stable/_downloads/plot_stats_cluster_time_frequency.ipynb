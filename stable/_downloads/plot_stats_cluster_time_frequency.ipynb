{
  "nbformat_minor": 0, 
  "nbformat": 4, 
  "cells": [
    {
      "execution_count": null, 
      "cell_type": "code", 
      "source": [
        "%matplotlib inline"
      ], 
      "outputs": [], 
      "metadata": {
        "collapsed": false
      }
    }, 
    {
      "source": [
        "\n.. _tut_stats_cluster_sensor_2samp_tfr:\n\n# Non-parametric between conditions cluster statistic on single trial power\n\n\nThis script shows how to compare clusters in time-frequency\npower estimates between conditions. It uses a non-parametric\nstatistical procedure based on permutations and cluster\nlevel statistics.\n\nThe procedure consists in:\n\n  - extracting epochs for 2 conditions\n  - compute single trial power estimates\n  - baseline line correct the power estimates (power ratios)\n  - compute stats to see if the power estimates are significantly different\n    between conditions.\n\n"
      ], 
      "cell_type": "markdown", 
      "metadata": {}
    }, 
    {
      "execution_count": null, 
      "cell_type": "code", 
      "source": [
        "# Authors: Alexandre Gramfort <alexandre.gramfort@telecom-paristech.fr>\n#\n# License: BSD (3-clause)\n\nimport numpy as np\nimport matplotlib.pyplot as plt\n\nimport mne\nfrom mne import io\nfrom mne.time_frequency import single_trial_power\nfrom mne.stats import permutation_cluster_test\nfrom mne.datasets import sample\n\nprint(__doc__)"
      ], 
      "outputs": [], 
      "metadata": {
        "collapsed": false
      }
    }, 
    {
      "source": [
        "Set parameters\n"
      ], 
      "cell_type": "markdown", 
      "metadata": {}
    }, 
    {
      "execution_count": null, 
      "cell_type": "code", 
      "source": [
        "data_path = sample.data_path()\nraw_fname = data_path + '/MEG/sample/sample_audvis_raw.fif'\nevent_fname = data_path + '/MEG/sample/sample_audvis_raw-eve.fif'\nevent_id = 1\ntmin = -0.2\ntmax = 0.5\n\n# Setup for reading the raw data\nraw = io.read_raw_fif(raw_fname)\nevents = mne.read_events(event_fname)\n\ninclude = []\nraw.info['bads'] += ['MEG 2443', 'EEG 053']  # bads + 2 more\n\n# picks MEG gradiometers\npicks = mne.pick_types(raw.info, meg='grad', eeg=False, eog=True,\n                       stim=False, include=include, exclude='bads')\n\nch_name = raw.info['ch_names'][picks[0]]\n\n# Load condition 1\nreject = dict(grad=4000e-13, eog=150e-6)\nevent_id = 1\nepochs_condition_1 = mne.Epochs(raw, events, event_id, tmin, tmax,\n                                picks=picks, baseline=(None, 0),\n                                reject=reject)\ndata_condition_1 = epochs_condition_1.get_data()  # as 3D matrix\ndata_condition_1 *= 1e13  # change unit to fT / cm\n\n# Load condition 2\nevent_id = 2\nepochs_condition_2 = mne.Epochs(raw, events, event_id, tmin, tmax,\n                                picks=picks, baseline=(None, 0),\n                                reject=reject)\ndata_condition_2 = epochs_condition_2.get_data()  # as 3D matrix\ndata_condition_2 *= 1e13  # change unit to fT / cm\n\n# Take only one channel\ndata_condition_1 = data_condition_1[:, 97:98, :]\ndata_condition_2 = data_condition_2[:, 97:98, :]\n\n# Time vector\ntimes = 1e3 * epochs_condition_1.times  # change unit to ms"
      ], 
      "outputs": [], 
      "metadata": {
        "collapsed": false
      }
    }, 
    {
      "source": [
        "Factor to downsample the temporal dimension of the PSD computed by\nsingle_trial_power.  Decimation occurs after frequency decomposition and can\nbe used to reduce memory usage (and possibly comptuational time of downstream\noperations such as nonparametric statistics) if you don't need high\nspectrotemporal resolution.\n"
      ], 
      "cell_type": "markdown", 
      "metadata": {}
    }, 
    {
      "execution_count": null, 
      "cell_type": "code", 
      "source": [
        "decim = 2\nfrequencies = np.arange(7, 30, 3)  # define frequencies of interest\nsfreq = raw.info['sfreq']  # sampling in Hz\nn_cycles = 1.5\n\nepochs_power_1 = single_trial_power(data_condition_1, sfreq=sfreq,\n                                    frequencies=frequencies,\n                                    n_cycles=n_cycles, decim=decim)\n\nepochs_power_2 = single_trial_power(data_condition_2, sfreq=sfreq,\n                                    frequencies=frequencies,\n                                    n_cycles=n_cycles, decim=decim)\n\nepochs_power_1 = epochs_power_1[:, 0, :, :]  # only 1 channel to get 3D matrix\nepochs_power_2 = epochs_power_2[:, 0, :, :]  # only 1 channel to get 3D matrix"
      ], 
      "outputs": [], 
      "metadata": {
        "collapsed": false
      }
    }, 
    {
      "source": [
        "Compute ratio with baseline power (be sure to correct time vector with\ndecimation factor)\n"
      ], 
      "cell_type": "markdown", 
      "metadata": {}
    }, 
    {
      "execution_count": null, 
      "cell_type": "code", 
      "source": [
        "baseline_mask = times[::decim] < 0\nepochs_baseline_1 = np.mean(epochs_power_1[:, :, baseline_mask], axis=2)\nepochs_power_1 /= epochs_baseline_1[..., np.newaxis]\nepochs_baseline_2 = np.mean(epochs_power_2[:, :, baseline_mask], axis=2)\nepochs_power_2 /= epochs_baseline_2[..., np.newaxis]"
      ], 
      "outputs": [], 
      "metadata": {
        "collapsed": false
      }
    }, 
    {
      "source": [
        "Compute statistic\n"
      ], 
      "cell_type": "markdown", 
      "metadata": {}
    }, 
    {
      "execution_count": null, 
      "cell_type": "code", 
      "source": [
        "threshold = 6.0\nT_obs, clusters, cluster_p_values, H0 = \\\n    permutation_cluster_test([epochs_power_1, epochs_power_2],\n                             n_permutations=100, threshold=threshold, tail=0)"
      ], 
      "outputs": [], 
      "metadata": {
        "collapsed": false
      }
    }, 
    {
      "source": [
        "View time-frequency plots\n"
      ], 
      "cell_type": "markdown", 
      "metadata": {}
    }, 
    {
      "execution_count": null, 
      "cell_type": "code", 
      "source": [
        "plt.clf()\nplt.subplots_adjust(0.12, 0.08, 0.96, 0.94, 0.2, 0.43)\nplt.subplot(2, 1, 1)\nevoked_contrast = np.mean(data_condition_1, 0) - np.mean(data_condition_2, 0)\nplt.plot(times, evoked_contrast.T)\nplt.title('Contrast of evoked response (%s)' % ch_name)\nplt.xlabel('time (ms)')\nplt.ylabel('Magnetic Field (fT/cm)')\nplt.xlim(times[0], times[-1])\nplt.ylim(-100, 200)\n\nplt.subplot(2, 1, 2)\n\n# Create new stats image with only significant clusters\nT_obs_plot = np.nan * np.ones_like(T_obs)\nfor c, p_val in zip(clusters, cluster_p_values):\n    if p_val <= 0.05:\n        T_obs_plot[c] = T_obs[c]\n\nplt.imshow(T_obs,\n           extent=[times[0], times[-1], frequencies[0], frequencies[-1]],\n           aspect='auto', origin='lower', cmap='RdBu_r')\nplt.imshow(T_obs_plot,\n           extent=[times[0], times[-1], frequencies[0], frequencies[-1]],\n           aspect='auto', origin='lower', cmap='RdBu_r')\n\nplt.xlabel('time (ms)')\nplt.ylabel('Frequency (Hz)')\nplt.title('Induced power (%s)' % ch_name)\nplt.show()"
      ], 
      "outputs": [], 
      "metadata": {
        "collapsed": false
      }
    }
  ], 
  "metadata": {
    "kernelspec": {
      "display_name": "Python 2", 
      "name": "python2", 
      "language": "python"
    }, 
    "language_info": {
      "mimetype": "text/x-python", 
      "nbconvert_exporter": "python", 
      "name": "python", 
      "file_extension": ".py", 
      "version": "2.7.11", 
      "pygments_lexer": "ipython2", 
      "codemirror_mode": {
        "version": 2, 
        "name": "ipython"
      }
    }
  }
}