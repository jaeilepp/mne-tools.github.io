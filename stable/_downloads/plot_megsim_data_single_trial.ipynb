{
  "nbformat_minor": 0, 
  "nbformat": 4, 
  "cells": [
    {
      "execution_count": null, 
      "cell_type": "code", 
      "source": [
        "%matplotlib inline"
      ], 
      "outputs": [], 
      "metadata": {
        "collapsed": false
      }
    }, 
    {
      "source": [
        "\n# MEGSIM single trial simulation dataset\n\n\nThe MEGSIM consists of experimental and simulated MEG data\nwhich can be useful for reproducing research results.\n\nThe MEGSIM files will be dowloaded automatically.\n\nThe datasets are documented in:\nAine CJ, Sanfratello L, Ranken D, Best E, MacArthur JA, Wallace T,\nGilliam K, Donahue CH, Montano R, Bryant JE, Scott A, Stephen JM\n(2012) MEG-SIM: A Web Portal for Testing MEG Analysis Methods using\nRealistic Simulated and Empirical Data. Neuroinformatics 10:141-158\n"
      ], 
      "cell_type": "markdown", 
      "metadata": {}
    }, 
    {
      "execution_count": null, 
      "cell_type": "code", 
      "source": [
        "from mne import read_evokeds\nfrom mne.datasets.megsim import load_data\n\nprint(__doc__)\n\ncondition = 'visual'  # or 'auditory' or 'somatosensory'\n\n# Load experimental RAW files for the visual condition\nepochs_fnames = load_data(condition=condition, data_format='single-trial',\n                          data_type='simulation', verbose=True)\n\n# Take only 10 trials from the same simulation setup.\nepochs_fnames = [f for f in epochs_fnames if 'sim6_trial_' in f][:10]\n\nevokeds = [read_evokeds(f)[0] for f in epochs_fnames]\nmean_evoked = sum(evokeds[1:], evokeds[0])\n\n# Visualize the average\nmean_evoked.plot()"
      ], 
      "outputs": [], 
      "metadata": {
        "collapsed": false
      }
    }
  ], 
  "metadata": {
    "kernelspec": {
      "display_name": "Python 2", 
      "name": "python2", 
      "language": "python"
    }, 
    "language_info": {
      "mimetype": "text/x-python", 
      "nbconvert_exporter": "python", 
      "name": "python", 
      "file_extension": ".py", 
      "version": "2.7.11", 
      "pygments_lexer": "ipython2", 
      "codemirror_mode": {
        "version": 2, 
        "name": "ipython"
      }
    }
  }
}