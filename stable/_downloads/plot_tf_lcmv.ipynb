{
  "nbformat_minor": 0, 
  "nbformat": 4, 
  "cells": [
    {
      "execution_count": null, 
      "cell_type": "code", 
      "source": [
        "%matplotlib inline"
      ], 
      "outputs": [], 
      "metadata": {
        "collapsed": false
      }
    }, 
    {
      "source": [
        "\n# Time-frequency beamforming using LCMV\n\n\nCompute LCMV source power in a grid of time-frequency windows and display\nresults.\n\nThe original reference is:\nDalal et al. Five-dimensional neuroimaging: Localization of the time-frequency\ndynamics of cortical activity. NeuroImage (2008) vol. 40 (4) pp. 1686-1700\n"
      ], 
      "cell_type": "markdown", 
      "metadata": {}
    }, 
    {
      "execution_count": null, 
      "cell_type": "code", 
      "source": [
        "# Author: Roman Goj <roman.goj@gmail.com>\n#\n# License: BSD (3-clause)\n\nimport mne\nfrom mne import compute_covariance\nfrom mne.datasets import sample\nfrom mne.event import make_fixed_length_events\nfrom mne.beamformer import tf_lcmv\nfrom mne.viz import plot_source_spectrogram\n\nprint(__doc__)\n\ndata_path = sample.data_path()\nraw_fname = data_path + '/MEG/sample/sample_audvis_raw.fif'\nnoise_fname = data_path + '/MEG/sample/ernoise_raw.fif'\nevent_fname = data_path + '/MEG/sample/sample_audvis_raw-eve.fif'\nfname_fwd = data_path + '/MEG/sample/sample_audvis-meg-eeg-oct-6-fwd.fif'\nsubjects_dir = data_path + '/subjects'\nlabel_name = 'Aud-lh'\nfname_label = data_path + '/MEG/sample/labels/%s.label' % label_name"
      ], 
      "outputs": [], 
      "metadata": {
        "collapsed": false
      }
    }, 
    {
      "source": [
        "Read raw data, preload to allow filtering\n"
      ], 
      "cell_type": "markdown", 
      "metadata": {}
    }, 
    {
      "execution_count": null, 
      "cell_type": "code", 
      "source": [
        "raw = mne.io.read_raw_fif(raw_fname, preload=True)\nraw.info['bads'] = ['MEG 2443']  # 1 bad MEG channel\n\n# Pick a selection of magnetometer channels. A subset of all channels was used\n# to speed up the example. For a solution based on all MEG channels use\n# meg=True, selection=None and add grad=4000e-13 to the reject dictionary.\n# We could do this with a \"picks\" argument to Epochs and the LCMV functions,\n# but here we use raw.pick_types() to save memory.\nleft_temporal_channels = mne.read_selection('Left-temporal')\nraw.pick_types(meg='mag', eeg=False, eog=False, stim=False, exclude='bads',\n               selection=left_temporal_channels)\nreject = dict(mag=4e-12)\n# Re-normalize our empty-room projectors, which should be fine after\n# subselection\nraw.info.normalize_proj()\n\n# Setting time limits for reading epochs. Note that tmin and tmax are set so\n# that time-frequency beamforming will be performed for a wider range of time\n# points than will later be displayed on the final spectrogram. This ensures\n# that all time bins displayed represent an average of an equal number of time\n# windows.\ntmin, tmax = -0.55, 0.75  # s\ntmin_plot, tmax_plot = -0.3, 0.5  # s\n\n# Read epochs. Note that preload is set to False to enable tf_lcmv to read the\n# underlying raw object.\n# Filtering is then performed on raw data in tf_lcmv and the epochs\n# parameters passed here are used to create epochs from filtered data. However,\n# reading epochs without preloading means that bad epoch rejection is delayed\n# until later. To perform bad epoch rejection based on the reject parameter\n# passed here, run epochs.drop_bad(). This is done automatically in\n# tf_lcmv to reject bad epochs based on unfiltered data.\nevent_id = 1\nevents = mne.read_events(event_fname)\nepochs = mne.Epochs(raw, events, event_id, tmin, tmax, proj=True,\n                    baseline=None, preload=False, reject=reject)\n\n# Read empty room noise, preload to allow filtering, and pick subselection\nraw_noise = mne.io.read_raw_fif(noise_fname, preload=True)\nraw_noise.info['bads'] = ['MEG 2443']  # 1 bad MEG channel\nraw_noise.pick_types(meg='mag', eeg=False, eog=False, stim=False,\n                     exclude='bads', selection=left_temporal_channels)\nraw_noise.info.normalize_proj()\n\n# Create artificial events for empty room noise data\nevents_noise = make_fixed_length_events(raw_noise, event_id, duration=1.)\n# Create an epochs object using preload=True to reject bad epochs based on\n# unfiltered data\nepochs_noise = mne.Epochs(raw_noise, events_noise, event_id, tmin, tmax,\n                          proj=True, baseline=None,\n                          preload=True, reject=reject)\n\n# Make sure the number of noise epochs is the same as data epochs\nepochs_noise = epochs_noise[:len(epochs.events)]\n\n# Read forward operator\nforward = mne.read_forward_solution(fname_fwd, surf_ori=True)\n\n# Read label\nlabel = mne.read_label(fname_label)"
      ], 
      "outputs": [], 
      "metadata": {
        "collapsed": false
      }
    }, 
    {
      "source": [
        "Time-frequency beamforming based on LCMV\n"
      ], 
      "cell_type": "markdown", 
      "metadata": {}
    }, 
    {
      "execution_count": null, 
      "cell_type": "code", 
      "source": [
        "# Setting frequency bins as in Dalal et al. 2008 (high gamma was subdivided)\nfreq_bins = [(4, 12), (12, 30), (30, 55), (65, 299)]  # Hz\nwin_lengths = [0.3, 0.2, 0.15, 0.1]  # s\n\n# Setting the time step\ntstep = 0.05\n\n# Setting the whitened data covariance regularization parameter\ndata_reg = 0.001\n\n# Subtract evoked response prior to computation?\nsubtract_evoked = False\n\n# Calculating covariance from empty room noise. To use baseline data as noise\n# substitute raw for raw_noise, epochs.events for epochs_noise.events, tmin for\n# desired baseline length, and 0 for tmax_plot.\n# Note, if using baseline data, the averaged evoked response in the baseline\n# period should be flat.\nnoise_covs = []\nfor (l_freq, h_freq) in freq_bins:\n    raw_band = raw_noise.copy()\n    raw_band.filter(l_freq, h_freq, method='iir', n_jobs=1)\n    epochs_band = mne.Epochs(raw_band, epochs_noise.events, event_id,\n                             tmin=tmin_plot, tmax=tmax_plot, baseline=None,\n                             proj=True)\n\n    noise_cov = compute_covariance(epochs_band, method='shrunk')\n    noise_covs.append(noise_cov)\n    del raw_band  # to save memory\n\n# Computing LCMV solutions for time-frequency windows in a label in source\n# space for faster computation, use label=None for full solution\nstcs = tf_lcmv(epochs, forward, noise_covs, tmin, tmax, tstep, win_lengths,\n               freq_bins=freq_bins, subtract_evoked=subtract_evoked,\n               reg=data_reg, label=label)\n\n# Plotting source spectrogram for source with maximum activity.\n# Note that tmin and tmax are set to display a time range that is smaller than\n# the one for which beamforming estimates were calculated. This ensures that\n# all time bins shown are a result of smoothing across an identical number of\n# time windows.\nplot_source_spectrogram(stcs, freq_bins, tmin=tmin_plot, tmax=tmax_plot,\n                        source_index=None, colorbar=True)"
      ], 
      "outputs": [], 
      "metadata": {
        "collapsed": false
      }
    }
  ], 
  "metadata": {
    "kernelspec": {
      "display_name": "Python 2", 
      "name": "python2", 
      "language": "python"
    }, 
    "language_info": {
      "mimetype": "text/x-python", 
      "nbconvert_exporter": "python", 
      "name": "python", 
      "file_extension": ".py", 
      "version": "2.7.11", 
      "pygments_lexer": "ipython2", 
      "codemirror_mode": {
        "version": 2, 
        "name": "ipython"
      }
    }
  }
}