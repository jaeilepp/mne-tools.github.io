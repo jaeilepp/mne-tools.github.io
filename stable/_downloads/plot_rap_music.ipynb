{
  "nbformat_minor": 0, 
  "nbformat": 4, 
  "cells": [
    {
      "execution_count": null, 
      "cell_type": "code", 
      "source": [
        "%matplotlib inline"
      ], 
      "outputs": [], 
      "metadata": {
        "collapsed": false
      }
    }, 
    {
      "source": [
        "\n# Compute Rap-Music on evoked data\n\n\nCompute a Recursively Applied and Projected MUltiple Signal Classification\n(RAP-MUSIC) on evoked dataset.\n\nThe reference for Rap-Music is:\nJ.C. Mosher and R.M. Leahy. 1999. Source localization using recursively\napplied and projected (RAP) MUSIC. Trans. Sig. Proc. 47, 2\n(February 1999), 332-340.\nDOI=10.1109/78.740118 http://dx.doi.org/10.1109/78.740118\n"
      ], 
      "cell_type": "markdown", 
      "metadata": {}
    }, 
    {
      "execution_count": null, 
      "cell_type": "code", 
      "source": [
        "# Author: Yousra Bekhti <yousra.bekhti@gmail.com>\n#\n# License: BSD (3-clause)\n\nimport mne\n\nfrom mne.datasets import sample\nfrom mne.beamformer import rap_music\nfrom mne.viz import plot_dipole_locations, plot_dipole_amplitudes\n\nprint(__doc__)\n\ndata_path = sample.data_path()\nsubjects_dir = data_path + '/subjects'\nfwd_fname = data_path + '/MEG/sample/sample_audvis-meg-eeg-oct-6-fwd.fif'\nevoked_fname = data_path + '/MEG/sample/sample_audvis-ave.fif'\ncov_fname = data_path + '/MEG/sample/sample_audvis-cov.fif'\n\n# Read the evoked response and crop it\ncondition = 'Right Auditory'\nevoked = mne.read_evokeds(evoked_fname, condition=condition,\n                          baseline=(None, 0))\nevoked.crop(tmin=0.05, tmax=0.15)  # select N100\n\nevoked.pick_types(meg=True, eeg=False)\n\n# Read the forward solution\nforward = mne.read_forward_solution(fwd_fname, surf_ori=True,\n                                    force_fixed=False)\n\n# Read noise covariance matrix\nnoise_cov = mne.read_cov(cov_fname)\n\ndipoles, residual = rap_music(evoked, forward, noise_cov, n_dipoles=2,\n                              return_residual=True, verbose=True)\ntrans = forward['mri_head_t']\nplot_dipole_locations(dipoles, trans, 'sample', subjects_dir=subjects_dir)\nplot_dipole_amplitudes(dipoles)\n\n# Plot the evoked data and the residual.\nevoked.plot(ylim=dict(grad=[-300, 300], mag=[-800, 800], eeg=[-6, 8]))\nresidual.plot(ylim=dict(grad=[-300, 300], mag=[-800, 800], eeg=[-6, 8]))"
      ], 
      "outputs": [], 
      "metadata": {
        "collapsed": false
      }
    }
  ], 
  "metadata": {
    "kernelspec": {
      "display_name": "Python 2", 
      "name": "python2", 
      "language": "python"
    }, 
    "language_info": {
      "mimetype": "text/x-python", 
      "nbconvert_exporter": "python", 
      "name": "python", 
      "file_extension": ".py", 
      "version": "2.7.11", 
      "pygments_lexer": "ipython2", 
      "codemirror_mode": {
        "version": 2, 
        "name": "ipython"
      }
    }
  }
}