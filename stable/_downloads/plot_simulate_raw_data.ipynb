{
  "nbformat_minor": 0, 
  "nbformat": 4, 
  "cells": [
    {
      "execution_count": null, 
      "cell_type": "code", 
      "source": [
        "%matplotlib inline"
      ], 
      "outputs": [], 
      "metadata": {
        "collapsed": false
      }
    }, 
    {
      "source": [
        "\n# Generate simulated raw data\n\n\nThis example generates raw data by repeating a desired source\nactivation multiple times.\n\n"
      ], 
      "cell_type": "markdown", 
      "metadata": {}
    }, 
    {
      "execution_count": null, 
      "cell_type": "code", 
      "source": [
        "# Authors: Yousra Bekhti <yousra.bekhti@gmail.com>\n#          Mark Wronkiewicz <wronk.mark@gmail.com>\n#          Eric Larson <larson.eric.d@gmail.com>\n#\n# License: BSD (3-clause)\n\nimport numpy as np\nimport matplotlib.pyplot as plt\n\nimport mne\nfrom mne import read_source_spaces, find_events, Epochs, compute_covariance\nfrom mne.datasets import sample\nfrom mne.simulation import simulate_sparse_stc, simulate_raw\n\nprint(__doc__)\n\ndata_path = sample.data_path()\nraw_fname = data_path + '/MEG/sample/sample_audvis_raw.fif'\ntrans_fname = data_path + '/MEG/sample/sample_audvis_raw-trans.fif'\nsrc_fname = data_path + '/subjects/sample/bem/sample-oct-6-src.fif'\nbem_fname = (data_path +\n             '/subjects/sample/bem/sample-5120-5120-5120-bem-sol.fif')\n\n# Load real data as the template\nraw = mne.io.read_raw_fif(raw_fname)\nraw = raw.crop(0., 30.)  # 30 sec is enough"
      ], 
      "outputs": [], 
      "metadata": {
        "collapsed": false
      }
    }, 
    {
      "source": [
        "Generate dipole time series\n"
      ], 
      "cell_type": "markdown", 
      "metadata": {}
    }, 
    {
      "execution_count": null, 
      "cell_type": "code", 
      "source": [
        "n_dipoles = 4  # number of dipoles to create\nepoch_duration = 2.  # duration of each epoch/event\nn = 0  # harmonic number\n\n\ndef data_fun(times):\n    \"\"\"Generate time-staggered sinusoids at harmonics of 10Hz\"\"\"\n    global n\n    n_samp = len(times)\n    window = np.zeros(n_samp)\n    start, stop = [int(ii * float(n_samp) / (2 * n_dipoles))\n                   for ii in (2 * n, 2 * n + 1)]\n    window[start:stop] = 1.\n    n += 1\n    data = 25e-9 * np.sin(2. * np.pi * 10. * n * times)\n    data *= window\n    return data\n\ntimes = raw.times[:int(raw.info['sfreq'] * epoch_duration)]\nsrc = read_source_spaces(src_fname)\nstc = simulate_sparse_stc(src, n_dipoles=n_dipoles, times=times,\n                          data_fun=data_fun, random_state=0)\n# look at our source data\nfig, ax = plt.subplots(1)\nax.plot(times, 1e9 * stc.data.T)\nax.set(ylabel='Amplitude (nAm)', xlabel='Time (sec)')\nfig.show()"
      ], 
      "outputs": [], 
      "metadata": {
        "collapsed": false
      }
    }, 
    {
      "source": [
        "Simulate raw data\n"
      ], 
      "cell_type": "markdown", 
      "metadata": {}
    }, 
    {
      "execution_count": null, 
      "cell_type": "code", 
      "source": [
        "raw_sim = simulate_raw(raw, stc, trans_fname, src, bem_fname, cov='simple',\n                       iir_filter=[0.2, -0.2, 0.04], ecg=True, blink=True,\n                       n_jobs=1, verbose=True)\nraw_sim.plot()"
      ], 
      "outputs": [], 
      "metadata": {
        "collapsed": false
      }
    }, 
    {
      "source": [
        "Plot evoked data\n"
      ], 
      "cell_type": "markdown", 
      "metadata": {}
    }, 
    {
      "execution_count": null, 
      "cell_type": "code", 
      "source": [
        "events = find_events(raw_sim)  # only 1 pos, so event number == 1\nepochs = Epochs(raw_sim, events, 1, -0.2, epoch_duration)\ncov = compute_covariance(epochs, tmax=0., method='empirical')  # quick calc\nevoked = epochs.average()\nevoked.plot_white(cov)"
      ], 
      "outputs": [], 
      "metadata": {
        "collapsed": false
      }
    }
  ], 
  "metadata": {
    "kernelspec": {
      "display_name": "Python 2", 
      "name": "python2", 
      "language": "python"
    }, 
    "language_info": {
      "mimetype": "text/x-python", 
      "nbconvert_exporter": "python", 
      "name": "python", 
      "file_extension": ".py", 
      "version": "2.7.11", 
      "pygments_lexer": "ipython2", 
      "codemirror_mode": {
        "version": 2, 
        "name": "ipython"
      }
    }
  }
}