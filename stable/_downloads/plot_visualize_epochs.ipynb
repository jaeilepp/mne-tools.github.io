{
  "nbformat_minor": 0, 
  "nbformat": 4, 
  "cells": [
    {
      "execution_count": null, 
      "cell_type": "code", 
      "source": [
        "%matplotlib inline"
      ], 
      "outputs": [], 
      "metadata": {
        "collapsed": false
      }
    }, 
    {
      "source": [
        "\n.. _tut_viz_epochs:\n\nVisualize Epochs data\n=====================\n\n"
      ], 
      "cell_type": "markdown", 
      "metadata": {}
    }, 
    {
      "execution_count": null, 
      "cell_type": "code", 
      "source": [
        "import os.path as op\n\nimport mne\n\ndata_path = op.join(mne.datasets.sample.data_path(), 'MEG', 'sample')\nraw = mne.io.read_raw_fif(op.join(data_path, 'sample_audvis_raw.fif'))\nevents = mne.read_events(op.join(data_path, 'sample_audvis_raw-eve.fif'))\npicks = mne.pick_types(raw.info, meg='grad')\nepochs = mne.Epochs(raw, events, [1, 2], picks=picks)"
      ], 
      "outputs": [], 
      "metadata": {
        "collapsed": false
      }
    }, 
    {
      "source": [
        "This tutorial focuses on visualization of epoched data. All of the functions\nintroduced here are basically high level matplotlib functions with built in\nintelligence to work with epoched data. All the methods return a handle to\nmatplotlib figure instance.\n\nAll plotting functions start with ``plot``. Let's start with the most\nobvious. :func:`mne.Epochs.plot` offers an interactive browser that allows\nrejection by hand when called in combination with a keyword ``block=True``.\nThis blocks the execution of the script until the browser window is closed.\n"
      ], 
      "cell_type": "markdown", 
      "metadata": {}
    }, 
    {
      "execution_count": null, 
      "cell_type": "code", 
      "source": [
        "epochs.plot(block=True)"
      ], 
      "outputs": [], 
      "metadata": {
        "collapsed": false
      }
    }, 
    {
      "source": [
        "The numbers at the top refer to the event id of the epoch. We only have\nevents with id numbers of 1 and 2 since we included only those when\nconstructing the epochs.\n\nSince we did no artifact correction or rejection, there are epochs\ncontaminated with blinks and saccades. For instance, epoch number 9 (see\nnumbering at the bottom) seems to be contaminated by a blink (scroll to the\nbottom to view the EOG channel). This epoch can be marked for rejection by\nclicking on top of the browser window. The epoch should turn red when you\nclick it. This means that it will be dropped as the browser window is closed.\nYou should check out `help` at the lower left corner of the window for more\ninformation about the interactive features.\n\nTo plot individual channels as an image, where you see all the epochs at one\nglance, you can use function :func:`mne.Epochs.plot_image`. It shows the\namplitude of the signal over all the epochs plus an average of the\nactivation.\n"
      ], 
      "cell_type": "markdown", 
      "metadata": {}
    }, 
    {
      "execution_count": null, 
      "cell_type": "code", 
      "source": [
        "epochs.plot_image(97)\n\n# You also have functions for plotting channelwise information arranged into a\n# shape of the channel array. The image plotting uses automatic scaling by\n# default, but noisy channels and different channel types can cause the scaling\n# to be a bit off. Here we define the limits by hand.\nepochs.plot_topo_image(vmin=-200, vmax=200, title='ERF images')"
      ], 
      "outputs": [], 
      "metadata": {
        "collapsed": false
      }
    }
  ], 
  "metadata": {
    "kernelspec": {
      "display_name": "Python 2", 
      "name": "python2", 
      "language": "python"
    }, 
    "language_info": {
      "mimetype": "text/x-python", 
      "nbconvert_exporter": "python", 
      "name": "python", 
      "file_extension": ".py", 
      "version": "2.7.11", 
      "pygments_lexer": "ipython2", 
      "codemirror_mode": {
        "version": 2, 
        "name": "ipython"
      }
    }
  }
}