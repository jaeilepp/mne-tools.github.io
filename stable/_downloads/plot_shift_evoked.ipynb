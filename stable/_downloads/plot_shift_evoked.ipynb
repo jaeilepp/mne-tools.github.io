{
  "nbformat_minor": 0, 
  "nbformat": 4, 
  "cells": [
    {
      "execution_count": null, 
      "cell_type": "code", 
      "source": [
        "%matplotlib inline"
      ], 
      "outputs": [], 
      "metadata": {
        "collapsed": false
      }
    }, 
    {
      "source": [
        "\n# Shifting time-scale in evoked data\n\n\n"
      ], 
      "cell_type": "markdown", 
      "metadata": {}
    }, 
    {
      "execution_count": null, 
      "cell_type": "code", 
      "source": [
        "# Author: Mainak Jas <mainak@neuro.hut.fi>\n#\n# License: BSD (3-clause)\n\nimport matplotlib.pyplot as plt\nimport mne\nfrom mne.viz import tight_layout\nfrom mne.datasets import sample\n\nprint(__doc__)\n\ndata_path = sample.data_path()\n\nfname = data_path + '/MEG/sample/sample_audvis-ave.fif'\n\n# Reading evoked data\ncondition = 'Left Auditory'\nevoked = mne.read_evokeds(fname, condition=condition, baseline=(None, 0),\n                          proj=True)\n\nch_names = evoked.info['ch_names']\npicks = mne.pick_channels(ch_names=ch_names, include=[\"MEG 2332\"])\n\n# Create subplots\nf, (ax1, ax2, ax3) = plt.subplots(3)\nevoked.plot(exclude=[], picks=picks, axes=ax1,\n            titles=dict(grad='Before time shifting'))\n\n# Apply relative time-shift of 500 ms\nevoked.shift_time(0.5, relative=True)\n\nevoked.plot(exclude=[], picks=picks, axes=ax2,\n            titles=dict(grad='Relative shift: 500 ms'))\n\n# Apply absolute time-shift of 500 ms\nevoked.shift_time(0.5, relative=False)\n\nevoked.plot(exclude=[], picks=picks, axes=ax3,\n            titles=dict(grad='Absolute shift: 500 ms'))\n\ntight_layout()"
      ], 
      "outputs": [], 
      "metadata": {
        "collapsed": false
      }
    }
  ], 
  "metadata": {
    "kernelspec": {
      "display_name": "Python 2", 
      "name": "python2", 
      "language": "python"
    }, 
    "language_info": {
      "mimetype": "text/x-python", 
      "nbconvert_exporter": "python", 
      "name": "python", 
      "file_extension": ".py", 
      "version": "2.7.11", 
      "pygments_lexer": "ipython2", 
      "codemirror_mode": {
        "version": 2, 
        "name": "ipython"
      }
    }
  }
}