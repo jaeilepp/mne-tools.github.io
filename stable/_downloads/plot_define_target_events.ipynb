{
  "nbformat_minor": 0, 
  "nbformat": 4, 
  "cells": [
    {
      "execution_count": null, 
      "cell_type": "code", 
      "source": [
        "%matplotlib inline"
      ], 
      "outputs": [], 
      "metadata": {
        "collapsed": false
      }
    }, 
    {
      "source": [
        "\n============================================================\nDefine target events based on time lag, plot evoked response\n============================================================\n\nThis script shows how to define higher order events based on\ntime lag between reference and target events. For\nillustration, we will put face stimuli presented into two\nclasses, that is 1) followed by an early button press\n(within 590 milliseconds) and followed by a late button\npress (later than 590 milliseconds). Finally, we will\nvisualize the evoked responses to both 'quickly-processed'\nand 'slowly-processed' face stimuli.\n\n"
      ], 
      "cell_type": "markdown", 
      "metadata": {}
    }, 
    {
      "execution_count": null, 
      "cell_type": "code", 
      "source": [
        "# Authors: Denis Engemann <denis.engemann@gmail.com>\n#\n# License: BSD (3-clause)\n\nimport mne\nfrom mne import io\nfrom mne.event import define_target_events\nfrom mne.datasets import sample\nimport matplotlib.pyplot as plt\n\nprint(__doc__)\n\ndata_path = sample.data_path()"
      ], 
      "outputs": [], 
      "metadata": {
        "collapsed": false
      }
    }, 
    {
      "source": [
        "Set parameters\n"
      ], 
      "cell_type": "markdown", 
      "metadata": {}
    }, 
    {
      "execution_count": null, 
      "cell_type": "code", 
      "source": [
        "raw_fname = data_path + '/MEG/sample/sample_audvis_filt-0-40_raw.fif'\nevent_fname = data_path + '/MEG/sample/sample_audvis_filt-0-40_raw-eve.fif'\n\n#   Setup for reading the raw data\nraw = io.read_raw_fif(raw_fname)\nevents = mne.read_events(event_fname)\n\n#   Set up pick list: EEG + STI 014 - bad channels (modify to your needs)\ninclude = []  # or stim channels ['STI 014']\nraw.info['bads'] += ['EEG 053']  # bads\n\n# pick MEG channels\npicks = mne.pick_types(raw.info, meg='mag', eeg=False, stim=False, eog=True,\n                       include=include, exclude='bads')"
      ], 
      "outputs": [], 
      "metadata": {
        "collapsed": false
      }
    }, 
    {
      "source": [
        "Find stimulus event followed by quick button presses\n"
      ], 
      "cell_type": "markdown", 
      "metadata": {}
    }, 
    {
      "execution_count": null, 
      "cell_type": "code", 
      "source": [
        "reference_id = 5  # presentation of a smiley face\ntarget_id = 32  # button press\nsfreq = raw.info['sfreq']  # sampling rate\ntmin = 0.1  # trials leading to very early responses will be rejected\ntmax = 0.59  # ignore face stimuli followed by button press later than 590 ms\nnew_id = 42  # the new event id for a hit. If None, reference_id is used.\nfill_na = 99  # the fill value for misses\n\nevents_, lag = define_target_events(events, reference_id, target_id,\n                                    sfreq, tmin, tmax, new_id, fill_na)\n\nprint(events_)  # The 99 indicates missing or too late button presses\n\n# besides the events also the lag between target and reference is returned\n# this could e.g. be used as parametric regressor in subsequent analyses.\n\nprint(lag[lag != fill_na])  # lag in milliseconds\n\n# #############################################################################\n# Construct epochs\n\ntmin_ = -0.2\ntmax_ = 0.4\nevent_id = dict(early=new_id, late=fill_na)\n\nepochs = mne.Epochs(raw, events_, event_id, tmin_,\n                    tmax_, picks=picks, baseline=(None, 0),\n                    reject=dict(mag=4e-12))\n\n# average epochs and get an Evoked dataset.\n\nearly, late = [epochs[k].average() for k in event_id]"
      ], 
      "outputs": [], 
      "metadata": {
        "collapsed": false
      }
    }, 
    {
      "source": [
        "View evoked response\n"
      ], 
      "cell_type": "markdown", 
      "metadata": {}
    }, 
    {
      "execution_count": null, 
      "cell_type": "code", 
      "source": [
        "times = 1e3 * epochs.times  # time in milliseconds\ntitle = 'Evoked response followed by %s button press'\n\nplt.clf()\nax = plt.subplot(2, 1, 1)\nearly.plot(axes=ax)\nplt.title(title % 'late')\nplt.ylabel('Evoked field (fT)')\nax = plt.subplot(2, 1, 2)\nlate.plot(axes=ax)\nplt.title(title % 'early')\nplt.ylabel('Evoked field (fT)')\nplt.show()"
      ], 
      "outputs": [], 
      "metadata": {
        "collapsed": false
      }
    }
  ], 
  "metadata": {
    "kernelspec": {
      "display_name": "Python 2", 
      "name": "python2", 
      "language": "python"
    }, 
    "language_info": {
      "mimetype": "text/x-python", 
      "nbconvert_exporter": "python", 
      "name": "python", 
      "file_extension": ".py", 
      "version": "2.7.11", 
      "pygments_lexer": "ipython2", 
      "codemirror_mode": {
        "version": 2, 
        "name": "ipython"
      }
    }
  }
}