{
  "nbformat_minor": 0, 
  "nbformat": 4, 
  "cells": [
    {
      "execution_count": null, 
      "cell_type": "code", 
      "source": [
        "%matplotlib inline"
      ], 
      "outputs": [], 
      "metadata": {
        "collapsed": false
      }
    }, 
    {
      "source": [
        "\n\n.. _tut_artifacts_correct_ica:\n\nArtifact Correction with ICA\n============================\n\nICA finds directions in the feature space\ncorresponding to projections with high non-Gaussianity. We thus obtain\na decomposition into independent components, and the artifact's contribution\nis localized in only a small number of components.\nThese components have to be correctly identified and removed.\n\nIf EOG or ECG recordings are available, they can be used in ICA to\nautomatically select the corresponding artifact components from the\ndecomposition. To do so, you have to first build an Epoch object around\nblink or heartbeat event.\n"
      ], 
      "cell_type": "markdown", 
      "metadata": {}
    }, 
    {
      "execution_count": null, 
      "cell_type": "code", 
      "source": [
        "import numpy as np\n\nimport mne\nfrom mne.datasets import sample\n\nfrom mne.preprocessing import ICA\nfrom mne.preprocessing import create_eog_epochs\n\n# getting some data ready\ndata_path = sample.data_path()\nraw_fname = data_path + '/MEG/sample/sample_audvis_filt-0-40_raw.fif'\n\nraw = mne.io.read_raw_fif(raw_fname, preload=True)\nraw.filter(1, 40, n_jobs=2)  # 1Hz high pass is often helpful for fitting ICA\n\npicks_meg = mne.pick_types(raw.info, meg=True, eeg=False, eog=False,\n                           stim=False, exclude='bads')"
      ], 
      "outputs": [], 
      "metadata": {
        "collapsed": false
      }
    }, 
    {
      "source": [
        "Before applying artifact correction please learn about your actual artifacts\nby reading :ref:`tut_artifacts_detect`.\n"
      ], 
      "cell_type": "markdown", 
      "metadata": {}
    }, 
    {
      "source": [
        "Fit ICA\n-------\n\nICA parameters:\n"
      ], 
      "cell_type": "markdown", 
      "metadata": {}
    }, 
    {
      "execution_count": null, 
      "cell_type": "code", 
      "source": [
        "n_components = 25  # if float, select n_components by explained variance of PCA\nmethod = 'fastica'  # for comparison with EEGLAB try \"extended-infomax\" here\ndecim = 3  # we need sufficient statistics, not all time points -> save time"
      ], 
      "outputs": [], 
      "metadata": {
        "collapsed": false
      }
    }, 
    {
      "source": [
        "Define the ICA object instance\n"
      ], 
      "cell_type": "markdown", 
      "metadata": {}
    }, 
    {
      "execution_count": null, 
      "cell_type": "code", 
      "source": [
        "ica = ICA(n_components=n_components, method=method)\nprint(ica)"
      ], 
      "outputs": [], 
      "metadata": {
        "collapsed": false
      }
    }, 
    {
      "source": [
        "we avoid fitting ICA on crazy environmental artifacts that would\ndominate the variance and decomposition\n"
      ], 
      "cell_type": "markdown", 
      "metadata": {}
    }, 
    {
      "execution_count": null, 
      "cell_type": "code", 
      "source": [
        "reject = dict(mag=5e-12, grad=4000e-13)\nica.fit(raw, picks=picks_meg, decim=decim, reject=reject)\nprint(ica)"
      ], 
      "outputs": [], 
      "metadata": {
        "collapsed": false
      }
    }, 
    {
      "source": [
        "Plot ICA components\n"
      ], 
      "cell_type": "markdown", 
      "metadata": {}
    }, 
    {
      "execution_count": null, 
      "cell_type": "code", 
      "source": [
        "ica.plot_components()  # can you see some potential bad guys?"
      ], 
      "outputs": [], 
      "metadata": {
        "collapsed": false
      }
    }, 
    {
      "source": [
        "Advanced artifact detection\n---------------------------\n\nLet's use a more efficient way to find artefacts\n"
      ], 
      "cell_type": "markdown", 
      "metadata": {}
    }, 
    {
      "execution_count": null, 
      "cell_type": "code", 
      "source": [
        "eog_average = create_eog_epochs(raw, reject=dict(mag=5e-12, grad=4000e-13),\n                                picks=picks_meg).average()\n\n# We simplify things by setting the maximum number of components to reject\nn_max_eog = 1  # here we bet on finding the vertical EOG components\neog_epochs = create_eog_epochs(raw, reject=reject)  # get single EOG trials\neog_inds, scores = ica.find_bads_eog(eog_epochs)  # find via correlation\n\nica.plot_scores(scores, exclude=eog_inds)  # look at r scores of components\n# we can see that only one component is highly correlated and that this\n# component got detected by our correlation analysis (red).\n\nica.plot_sources(eog_average, exclude=eog_inds)  # look at source time course"
      ], 
      "outputs": [], 
      "metadata": {
        "collapsed": false
      }
    }, 
    {
      "source": [
        "That component is also showing a prototypical average vertical EOG time\ncourse.\n\nPay attention to the labels, a customized read-out of the ica.labels_\n"
      ], 
      "cell_type": "markdown", 
      "metadata": {}
    }, 
    {
      "execution_count": null, 
      "cell_type": "code", 
      "source": [
        "print(ica.labels_)"
      ], 
      "outputs": [], 
      "metadata": {
        "collapsed": false
      }
    }, 
    {
      "source": [
        "These labels were used by the plotters and are added automatically\nby artifact detection functions. You can also manually edit them to annotate\ncomponents.\n\nNow let's see how we would modify our signals if we would remove this\ncomponent from the data\n"
      ], 
      "cell_type": "markdown", 
      "metadata": {}
    }, 
    {
      "execution_count": null, 
      "cell_type": "code", 
      "source": [
        "ica.plot_overlay(eog_average, exclude=eog_inds, show=False)\n# red -> before, black -> after. Yes! We remove quite a lot!\n\n# to definitely register this component as a bad one to be removed\n# there is the ``ica.exclude`` attribute, a simple Python list\n\nica.exclude.extend(eog_inds)\n\n# from now on the ICA will reject this component even if no exclude\n# parameter is passed, and this information will be stored to disk\n# on saving\n\n# uncomment this for reading and writing\n# ica.save('my-ica.fif')\n# ica = read_ica('my-ica.fif')"
      ], 
      "outputs": [], 
      "metadata": {
        "collapsed": false
      }
    }, 
    {
      "source": [
        "Exercise: find and remove ECG artifacts using ICA!\n\nWhat if we don't have an EOG channel?\n-------------------------------------\n\n1) make a bipolar reference from frontal EEG sensors and use as virtual EOG\nchannel. This can be tricky though as you can only hope that the frontal\nEEG channels only reflect EOG and not brain dynamics in the prefrontal\ncortex.\n2) Go for a semi-automated approach, using template matching.\nIn MNE-Python option 2 is easily achievable and it might be better,\nso let's have a look at it.\n"
      ], 
      "cell_type": "markdown", 
      "metadata": {}
    }, 
    {
      "execution_count": null, 
      "cell_type": "code", 
      "source": [
        "from mne.preprocessing.ica import corrmap  # noqa"
      ], 
      "outputs": [], 
      "metadata": {
        "collapsed": false
      }
    }, 
    {
      "source": [
        "The idea behind corrmap is that artefact patterns are similar across subjects\nand can thus be identified by correlating the different patterns resulting\nfrom each solution with a template. The procedure is therefore\nsemi-automatic. Corrmap hence takes at least a list of ICA solutions and a\ntemplate, that can be an index or an array. As we don't have different\nsubjects or runs available today, here we will fit ICA models to different\nparts of the recording and then use as a user-defined template the ICA\nthat we just fitted for detecting corresponding components in the three \"new\"\nICAs. The following block of code addresses this point and should not be\ncopied, ok?\nWe'll start by simulating a group of subjects or runs from a subject\n"
      ], 
      "cell_type": "markdown", 
      "metadata": {}
    }, 
    {
      "execution_count": null, 
      "cell_type": "code", 
      "source": [
        "start, stop = [0, len(raw.times) - 1]\nintervals = np.linspace(start, stop, 4, dtype=int)\nicas_from_other_data = list()\nraw.pick_types(meg=True, eeg=False)  # take only MEG channels\nfor ii, start in enumerate(intervals):\n    if ii + 1 < len(intervals):\n        stop = intervals[ii + 1]\n        print('fitting ICA from {0} to {1} seconds'.format(start, stop))\n        this_ica = ICA(n_components=n_components, method=method).fit(\n            raw, start=start, stop=stop, reject=reject)\n        icas_from_other_data.append(this_ica)"
      ], 
      "outputs": [], 
      "metadata": {
        "collapsed": false
      }
    }, 
    {
      "source": [
        "Do not copy this at home! You start by reading in a collections of ICA\nsolutions, something like\n\n``icas = [mne.preprocessing.read_ica(fname) for fname in ica_fnames]``\n"
      ], 
      "cell_type": "markdown", 
      "metadata": {}
    }, 
    {
      "execution_count": null, 
      "cell_type": "code", 
      "source": [
        "print(icas_from_other_data)"
      ], 
      "outputs": [], 
      "metadata": {
        "collapsed": false
      }
    }, 
    {
      "source": [
        "use our previous ICA as reference.\n"
      ], 
      "cell_type": "markdown", 
      "metadata": {}
    }, 
    {
      "execution_count": null, 
      "cell_type": "code", 
      "source": [
        "reference_ica = ica"
      ], 
      "outputs": [], 
      "metadata": {
        "collapsed": false
      }
    }, 
    {
      "source": [
        "Investigate our reference ICA, here we use the previous fit from above.\n"
      ], 
      "cell_type": "markdown", 
      "metadata": {}
    }, 
    {
      "execution_count": null, 
      "cell_type": "code", 
      "source": [
        "reference_ica.plot_components()"
      ], 
      "outputs": [], 
      "metadata": {
        "collapsed": false
      }
    }, 
    {
      "source": [
        "Which one is the bad EOG component?\nHere we rely on our previous detection algorithm. You will need to decide\nyourself in that situation where no other detection is available.\n"
      ], 
      "cell_type": "markdown", 
      "metadata": {}
    }, 
    {
      "execution_count": null, 
      "cell_type": "code", 
      "source": [
        "reference_ica.plot_sources(eog_average, exclude=eog_inds)"
      ], 
      "outputs": [], 
      "metadata": {
        "collapsed": false
      }
    }, 
    {
      "source": [
        "Indeed it looks like an EOG, also in the average time course.\n\nSo our template shall be a tuple like (reference_run_index, component_index):\n"
      ], 
      "cell_type": "markdown", 
      "metadata": {}
    }, 
    {
      "execution_count": null, 
      "cell_type": "code", 
      "source": [
        "template = (0, eog_inds[0])"
      ], 
      "outputs": [], 
      "metadata": {
        "collapsed": false
      }
    }, 
    {
      "source": [
        "Now we can do the corrmap.\n"
      ], 
      "cell_type": "markdown", 
      "metadata": {}
    }, 
    {
      "execution_count": null, 
      "cell_type": "code", 
      "source": [
        "fig_template, fig_detected = corrmap(\n    icas_from_other_data, template=template, label=\"blinks\", show=True,\n    threshold=.8, ch_type='mag')"
      ], 
      "outputs": [], 
      "metadata": {
        "collapsed": false
      }
    }, 
    {
      "source": [
        "Nice, we have found similar ICs from the other runs!\nThis is even nicer if we have 20 or 100 ICA solutions in a list.\n\nYou can also use SSP for correcting for artifacts. It is a bit simpler,\nfaster but is less precise than ICA. And it requires that you\nknow the event timing of your artifact.\nSee :ref:`tut_artifacts_correct_ssp`.\n"
      ], 
      "cell_type": "markdown", 
      "metadata": {}
    }
  ], 
  "metadata": {
    "kernelspec": {
      "display_name": "Python 2", 
      "name": "python2", 
      "language": "python"
    }, 
    "language_info": {
      "mimetype": "text/x-python", 
      "nbconvert_exporter": "python", 
      "name": "python", 
      "file_extension": ".py", 
      "version": "2.7.11", 
      "pygments_lexer": "ipython2", 
      "codemirror_mode": {
        "version": 2, 
        "name": "ipython"
      }
    }
  }
}