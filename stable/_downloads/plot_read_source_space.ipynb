{
  "nbformat_minor": 0, 
  "nbformat": 4, 
  "cells": [
    {
      "execution_count": null, 
      "cell_type": "code", 
      "source": [
        "%matplotlib inline"
      ], 
      "outputs": [], 
      "metadata": {
        "collapsed": false
      }
    }, 
    {
      "source": [
        "\n# Reading a source space from a forward operator\n\n\nThis example visualizes a source space mesh used by a forward operator.\n"
      ], 
      "cell_type": "markdown", 
      "metadata": {}
    }, 
    {
      "execution_count": null, 
      "cell_type": "code", 
      "source": [
        "# Author: Alexandre Gramfort <alexandre.gramfort@telecom-paristech.fr>\n#\n# License: BSD (3-clause)\n\n\nimport os.path as op\n\nimport mne\nfrom mne.datasets import sample\n\nprint(__doc__)\n\ndata_path = sample.data_path()\nfname = op.join(data_path, 'subjects', 'sample', 'bem', 'sample-oct-6-src.fif')\n\npatch_stats = True  # include high resolution source space\nsrc = mne.read_source_spaces(fname, patch_stats=patch_stats)\n\n# 3D source space (high sampling)\nlh_points = src[0]['rr']\nlh_faces = src[0]['tris']\nrh_points = src[1]['rr']\nrh_faces = src[1]['tris']\n\nfrom mayavi import mlab  # noqa\nmlab.figure(size=(600, 600), bgcolor=(0, 0, 0),)\nmesh = mlab.triangular_mesh(lh_points[:, 0], lh_points[:, 1], lh_points[:, 2],\n                            lh_faces, colormap='RdBu')\nmesh.module_manager.scalar_lut_manager.reverse_lut = True\n\nmesh = mlab.triangular_mesh(rh_points[:, 0], rh_points[:, 1], rh_points[:, 2],\n                            rh_faces, colormap='RdBu')\nmesh.module_manager.scalar_lut_manager.reverse_lut = True"
      ], 
      "outputs": [], 
      "metadata": {
        "collapsed": false
      }
    }
  ], 
  "metadata": {
    "kernelspec": {
      "display_name": "Python 2", 
      "name": "python2", 
      "language": "python"
    }, 
    "language_info": {
      "mimetype": "text/x-python", 
      "nbconvert_exporter": "python", 
      "name": "python", 
      "file_extension": ".py", 
      "version": "2.7.11", 
      "pygments_lexer": "ipython2", 
      "codemirror_mode": {
        "version": 2, 
        "name": "ipython"
      }
    }
  }
}